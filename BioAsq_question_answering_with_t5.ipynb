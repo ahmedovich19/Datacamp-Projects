{
  "nbformat": 4,
  "nbformat_minor": 0,
  "metadata": {
    "accelerator": "GPU",
    "colab": {
      "name": "question_answering_with_t5.ipynb",
      "provenance": [],
      "collapsed_sections": [],
      "toc_visible": true,
      "mount_file_id": "1h0_GoTAKJjSGEUjw_MVmBI60MNyPKrXs",
      "authorship_tag": "ABX9TyM+TcrmhryurbYMv1zIOhE5",
      "include_colab_link": true
    },
    "kernelspec": {
      "display_name": "Python 3",
      "name": "python3"
    },
    "widgets": {
      "application/vnd.jupyter.widget-state+json": {
        "682e4bf0839c42ed84a33c0f245fa86a": {
          "model_module": "@jupyter-widgets/controls",
          "model_name": "HBoxModel",
          "state": {
            "_view_name": "HBoxView",
            "_dom_classes": [],
            "_model_name": "HBoxModel",
            "_view_module": "@jupyter-widgets/controls",
            "_model_module_version": "1.5.0",
            "_view_count": null,
            "_view_module_version": "1.5.0",
            "box_style": "",
            "layout": "IPY_MODEL_b89ceb38560f466c93aff4fb7c9c6bdf",
            "_model_module": "@jupyter-widgets/controls",
            "children": [
              "IPY_MODEL_ee2f70de01b948188a601b4fcd4586bc",
              "IPY_MODEL_0ed12093ea924b4eaab6b0bfb735da4f"
            ]
          }
        },
        "b89ceb38560f466c93aff4fb7c9c6bdf": {
          "model_module": "@jupyter-widgets/base",
          "model_name": "LayoutModel",
          "state": {
            "_view_name": "LayoutView",
            "grid_template_rows": null,
            "right": null,
            "justify_content": null,
            "_view_module": "@jupyter-widgets/base",
            "overflow": null,
            "_model_module_version": "1.2.0",
            "_view_count": null,
            "flex_flow": null,
            "width": null,
            "min_width": null,
            "border": null,
            "align_items": null,
            "bottom": null,
            "_model_module": "@jupyter-widgets/base",
            "top": null,
            "grid_column": null,
            "overflow_y": null,
            "overflow_x": null,
            "grid_auto_flow": null,
            "grid_area": null,
            "grid_template_columns": null,
            "flex": null,
            "_model_name": "LayoutModel",
            "justify_items": null,
            "grid_row": null,
            "max_height": null,
            "align_content": null,
            "visibility": null,
            "align_self": null,
            "height": null,
            "min_height": null,
            "padding": null,
            "grid_auto_rows": null,
            "grid_gap": null,
            "max_width": null,
            "order": null,
            "_view_module_version": "1.2.0",
            "grid_template_areas": null,
            "object_position": null,
            "object_fit": null,
            "grid_auto_columns": null,
            "margin": null,
            "display": null,
            "left": null
          }
        },
        "ee2f70de01b948188a601b4fcd4586bc": {
          "model_module": "@jupyter-widgets/controls",
          "model_name": "FloatProgressModel",
          "state": {
            "_view_name": "ProgressView",
            "style": "IPY_MODEL_d48c9552fe80437fb4fa6294125a8e80",
            "_dom_classes": [],
            "description": "Downloading: 100%",
            "_model_name": "FloatProgressModel",
            "bar_style": "success",
            "max": 791656,
            "_view_module": "@jupyter-widgets/controls",
            "_model_module_version": "1.5.0",
            "value": 791656,
            "_view_count": null,
            "_view_module_version": "1.5.0",
            "orientation": "horizontal",
            "min": 0,
            "description_tooltip": null,
            "_model_module": "@jupyter-widgets/controls",
            "layout": "IPY_MODEL_8035b3127a4048ddadcb2e0836ed7bc9"
          }
        },
        "0ed12093ea924b4eaab6b0bfb735da4f": {
          "model_module": "@jupyter-widgets/controls",
          "model_name": "HTMLModel",
          "state": {
            "_view_name": "HTMLView",
            "style": "IPY_MODEL_69e3eb0ceb644240b2278805f4e132eb",
            "_dom_classes": [],
            "description": "",
            "_model_name": "HTMLModel",
            "placeholder": "​",
            "_view_module": "@jupyter-widgets/controls",
            "_model_module_version": "1.5.0",
            "value": " 792k/792k [00:00&lt;00:00, 1.03MB/s]",
            "_view_count": null,
            "_view_module_version": "1.5.0",
            "description_tooltip": null,
            "_model_module": "@jupyter-widgets/controls",
            "layout": "IPY_MODEL_64fb60a5f6f24275afb0153cc9270edc"
          }
        },
        "d48c9552fe80437fb4fa6294125a8e80": {
          "model_module": "@jupyter-widgets/controls",
          "model_name": "ProgressStyleModel",
          "state": {
            "_view_name": "StyleView",
            "_model_name": "ProgressStyleModel",
            "description_width": "initial",
            "_view_module": "@jupyter-widgets/base",
            "_model_module_version": "1.5.0",
            "_view_count": null,
            "_view_module_version": "1.2.0",
            "bar_color": null,
            "_model_module": "@jupyter-widgets/controls"
          }
        },
        "8035b3127a4048ddadcb2e0836ed7bc9": {
          "model_module": "@jupyter-widgets/base",
          "model_name": "LayoutModel",
          "state": {
            "_view_name": "LayoutView",
            "grid_template_rows": null,
            "right": null,
            "justify_content": null,
            "_view_module": "@jupyter-widgets/base",
            "overflow": null,
            "_model_module_version": "1.2.0",
            "_view_count": null,
            "flex_flow": null,
            "width": null,
            "min_width": null,
            "border": null,
            "align_items": null,
            "bottom": null,
            "_model_module": "@jupyter-widgets/base",
            "top": null,
            "grid_column": null,
            "overflow_y": null,
            "overflow_x": null,
            "grid_auto_flow": null,
            "grid_area": null,
            "grid_template_columns": null,
            "flex": null,
            "_model_name": "LayoutModel",
            "justify_items": null,
            "grid_row": null,
            "max_height": null,
            "align_content": null,
            "visibility": null,
            "align_self": null,
            "height": null,
            "min_height": null,
            "padding": null,
            "grid_auto_rows": null,
            "grid_gap": null,
            "max_width": null,
            "order": null,
            "_view_module_version": "1.2.0",
            "grid_template_areas": null,
            "object_position": null,
            "object_fit": null,
            "grid_auto_columns": null,
            "margin": null,
            "display": null,
            "left": null
          }
        },
        "69e3eb0ceb644240b2278805f4e132eb": {
          "model_module": "@jupyter-widgets/controls",
          "model_name": "DescriptionStyleModel",
          "state": {
            "_view_name": "StyleView",
            "_model_name": "DescriptionStyleModel",
            "description_width": "",
            "_view_module": "@jupyter-widgets/base",
            "_model_module_version": "1.5.0",
            "_view_count": null,
            "_view_module_version": "1.2.0",
            "_model_module": "@jupyter-widgets/controls"
          }
        },
        "64fb60a5f6f24275afb0153cc9270edc": {
          "model_module": "@jupyter-widgets/base",
          "model_name": "LayoutModel",
          "state": {
            "_view_name": "LayoutView",
            "grid_template_rows": null,
            "right": null,
            "justify_content": null,
            "_view_module": "@jupyter-widgets/base",
            "overflow": null,
            "_model_module_version": "1.2.0",
            "_view_count": null,
            "flex_flow": null,
            "width": null,
            "min_width": null,
            "border": null,
            "align_items": null,
            "bottom": null,
            "_model_module": "@jupyter-widgets/base",
            "top": null,
            "grid_column": null,
            "overflow_y": null,
            "overflow_x": null,
            "grid_auto_flow": null,
            "grid_area": null,
            "grid_template_columns": null,
            "flex": null,
            "_model_name": "LayoutModel",
            "justify_items": null,
            "grid_row": null,
            "max_height": null,
            "align_content": null,
            "visibility": null,
            "align_self": null,
            "height": null,
            "min_height": null,
            "padding": null,
            "grid_auto_rows": null,
            "grid_gap": null,
            "max_width": null,
            "order": null,
            "_view_module_version": "1.2.0",
            "grid_template_areas": null,
            "object_position": null,
            "object_fit": null,
            "grid_auto_columns": null,
            "margin": null,
            "display": null,
            "left": null
          }
        },
        "97cd4970386147f59740a4b3e1bac862": {
          "model_module": "@jupyter-widgets/controls",
          "model_name": "HBoxModel",
          "state": {
            "_view_name": "HBoxView",
            "_dom_classes": [],
            "_model_name": "HBoxModel",
            "_view_module": "@jupyter-widgets/controls",
            "_model_module_version": "1.5.0",
            "_view_count": null,
            "_view_module_version": "1.5.0",
            "box_style": "",
            "layout": "IPY_MODEL_aa057e775dbe490abd9c194b1f680c47",
            "_model_module": "@jupyter-widgets/controls",
            "children": [
              "IPY_MODEL_b9ef23aa1b4b4b08a2a39cb7d9610447",
              "IPY_MODEL_4cbc9ad922a2457cae45bf5ee362478e"
            ]
          }
        },
        "aa057e775dbe490abd9c194b1f680c47": {
          "model_module": "@jupyter-widgets/base",
          "model_name": "LayoutModel",
          "state": {
            "_view_name": "LayoutView",
            "grid_template_rows": null,
            "right": null,
            "justify_content": null,
            "_view_module": "@jupyter-widgets/base",
            "overflow": null,
            "_model_module_version": "1.2.0",
            "_view_count": null,
            "flex_flow": null,
            "width": null,
            "min_width": null,
            "border": null,
            "align_items": null,
            "bottom": null,
            "_model_module": "@jupyter-widgets/base",
            "top": null,
            "grid_column": null,
            "overflow_y": null,
            "overflow_x": null,
            "grid_auto_flow": null,
            "grid_area": null,
            "grid_template_columns": null,
            "flex": null,
            "_model_name": "LayoutModel",
            "justify_items": null,
            "grid_row": null,
            "max_height": null,
            "align_content": null,
            "visibility": null,
            "align_self": null,
            "height": null,
            "min_height": null,
            "padding": null,
            "grid_auto_rows": null,
            "grid_gap": null,
            "max_width": null,
            "order": null,
            "_view_module_version": "1.2.0",
            "grid_template_areas": null,
            "object_position": null,
            "object_fit": null,
            "grid_auto_columns": null,
            "margin": null,
            "display": null,
            "left": null
          }
        },
        "b9ef23aa1b4b4b08a2a39cb7d9610447": {
          "model_module": "@jupyter-widgets/controls",
          "model_name": "FloatProgressModel",
          "state": {
            "_view_name": "ProgressView",
            "style": "IPY_MODEL_5051f5526d814e95b440db50ea1d7ef1",
            "_dom_classes": [],
            "description": "Downloading: 100%",
            "_model_name": "FloatProgressModel",
            "bar_style": "success",
            "max": 1389353,
            "_view_module": "@jupyter-widgets/controls",
            "_model_module_version": "1.5.0",
            "value": 1389353,
            "_view_count": null,
            "_view_module_version": "1.5.0",
            "orientation": "horizontal",
            "min": 0,
            "description_tooltip": null,
            "_model_module": "@jupyter-widgets/controls",
            "layout": "IPY_MODEL_c13c476ec536430e8489f9d4ac9c2342"
          }
        },
        "4cbc9ad922a2457cae45bf5ee362478e": {
          "model_module": "@jupyter-widgets/controls",
          "model_name": "HTMLModel",
          "state": {
            "_view_name": "HTMLView",
            "style": "IPY_MODEL_d00e0217d7b94ff5b90b1f4df172178e",
            "_dom_classes": [],
            "description": "",
            "_model_name": "HTMLModel",
            "placeholder": "​",
            "_view_module": "@jupyter-widgets/controls",
            "_model_module_version": "1.5.0",
            "value": " 1.39M/1.39M [01:10&lt;00:00, 19.7kB/s]",
            "_view_count": null,
            "_view_module_version": "1.5.0",
            "description_tooltip": null,
            "_model_module": "@jupyter-widgets/controls",
            "layout": "IPY_MODEL_d17e0455df204ee38e425cf62be15af3"
          }
        },
        "5051f5526d814e95b440db50ea1d7ef1": {
          "model_module": "@jupyter-widgets/controls",
          "model_name": "ProgressStyleModel",
          "state": {
            "_view_name": "StyleView",
            "_model_name": "ProgressStyleModel",
            "description_width": "initial",
            "_view_module": "@jupyter-widgets/base",
            "_model_module_version": "1.5.0",
            "_view_count": null,
            "_view_module_version": "1.2.0",
            "bar_color": null,
            "_model_module": "@jupyter-widgets/controls"
          }
        },
        "c13c476ec536430e8489f9d4ac9c2342": {
          "model_module": "@jupyter-widgets/base",
          "model_name": "LayoutModel",
          "state": {
            "_view_name": "LayoutView",
            "grid_template_rows": null,
            "right": null,
            "justify_content": null,
            "_view_module": "@jupyter-widgets/base",
            "overflow": null,
            "_model_module_version": "1.2.0",
            "_view_count": null,
            "flex_flow": null,
            "width": null,
            "min_width": null,
            "border": null,
            "align_items": null,
            "bottom": null,
            "_model_module": "@jupyter-widgets/base",
            "top": null,
            "grid_column": null,
            "overflow_y": null,
            "overflow_x": null,
            "grid_auto_flow": null,
            "grid_area": null,
            "grid_template_columns": null,
            "flex": null,
            "_model_name": "LayoutModel",
            "justify_items": null,
            "grid_row": null,
            "max_height": null,
            "align_content": null,
            "visibility": null,
            "align_self": null,
            "height": null,
            "min_height": null,
            "padding": null,
            "grid_auto_rows": null,
            "grid_gap": null,
            "max_width": null,
            "order": null,
            "_view_module_version": "1.2.0",
            "grid_template_areas": null,
            "object_position": null,
            "object_fit": null,
            "grid_auto_columns": null,
            "margin": null,
            "display": null,
            "left": null
          }
        },
        "d00e0217d7b94ff5b90b1f4df172178e": {
          "model_module": "@jupyter-widgets/controls",
          "model_name": "DescriptionStyleModel",
          "state": {
            "_view_name": "StyleView",
            "_model_name": "DescriptionStyleModel",
            "description_width": "",
            "_view_module": "@jupyter-widgets/base",
            "_model_module_version": "1.5.0",
            "_view_count": null,
            "_view_module_version": "1.2.0",
            "_model_module": "@jupyter-widgets/controls"
          }
        },
        "d17e0455df204ee38e425cf62be15af3": {
          "model_module": "@jupyter-widgets/base",
          "model_name": "LayoutModel",
          "state": {
            "_view_name": "LayoutView",
            "grid_template_rows": null,
            "right": null,
            "justify_content": null,
            "_view_module": "@jupyter-widgets/base",
            "overflow": null,
            "_model_module_version": "1.2.0",
            "_view_count": null,
            "flex_flow": null,
            "width": null,
            "min_width": null,
            "border": null,
            "align_items": null,
            "bottom": null,
            "_model_module": "@jupyter-widgets/base",
            "top": null,
            "grid_column": null,
            "overflow_y": null,
            "overflow_x": null,
            "grid_auto_flow": null,
            "grid_area": null,
            "grid_template_columns": null,
            "flex": null,
            "_model_name": "LayoutModel",
            "justify_items": null,
            "grid_row": null,
            "max_height": null,
            "align_content": null,
            "visibility": null,
            "align_self": null,
            "height": null,
            "min_height": null,
            "padding": null,
            "grid_auto_rows": null,
            "grid_gap": null,
            "max_width": null,
            "order": null,
            "_view_module_version": "1.2.0",
            "grid_template_areas": null,
            "object_position": null,
            "object_fit": null,
            "grid_auto_columns": null,
            "margin": null,
            "display": null,
            "left": null
          }
        },
        "600a384616a84b72b4981f3d2a7b8470": {
          "model_module": "@jupyter-widgets/controls",
          "model_name": "HBoxModel",
          "state": {
            "_view_name": "HBoxView",
            "_dom_classes": [],
            "_model_name": "HBoxModel",
            "_view_module": "@jupyter-widgets/controls",
            "_model_module_version": "1.5.0",
            "_view_count": null,
            "_view_module_version": "1.5.0",
            "box_style": "",
            "layout": "IPY_MODEL_793d1cfa137b43eaad4a5653c8430848",
            "_model_module": "@jupyter-widgets/controls",
            "children": [
              "IPY_MODEL_9d9a3b8fa6524c2399c08ebbf914283f",
              "IPY_MODEL_026dbb7fefc7465399d6514fb1706130"
            ]
          }
        },
        "793d1cfa137b43eaad4a5653c8430848": {
          "model_module": "@jupyter-widgets/base",
          "model_name": "LayoutModel",
          "state": {
            "_view_name": "LayoutView",
            "grid_template_rows": null,
            "right": null,
            "justify_content": null,
            "_view_module": "@jupyter-widgets/base",
            "overflow": null,
            "_model_module_version": "1.2.0",
            "_view_count": null,
            "flex_flow": null,
            "width": null,
            "min_width": null,
            "border": null,
            "align_items": null,
            "bottom": null,
            "_model_module": "@jupyter-widgets/base",
            "top": null,
            "grid_column": null,
            "overflow_y": null,
            "overflow_x": null,
            "grid_auto_flow": null,
            "grid_area": null,
            "grid_template_columns": null,
            "flex": null,
            "_model_name": "LayoutModel",
            "justify_items": null,
            "grid_row": null,
            "max_height": null,
            "align_content": null,
            "visibility": null,
            "align_self": null,
            "height": null,
            "min_height": null,
            "padding": null,
            "grid_auto_rows": null,
            "grid_gap": null,
            "max_width": null,
            "order": null,
            "_view_module_version": "1.2.0",
            "grid_template_areas": null,
            "object_position": null,
            "object_fit": null,
            "grid_auto_columns": null,
            "margin": null,
            "display": null,
            "left": null
          }
        },
        "9d9a3b8fa6524c2399c08ebbf914283f": {
          "model_module": "@jupyter-widgets/controls",
          "model_name": "FloatProgressModel",
          "state": {
            "_view_name": "ProgressView",
            "style": "IPY_MODEL_47d5424ef2f5401a8df0909245c039f8",
            "_dom_classes": [],
            "description": "Downloading: 100%",
            "_model_name": "FloatProgressModel",
            "bar_style": "success",
            "max": 1199,
            "_view_module": "@jupyter-widgets/controls",
            "_model_module_version": "1.5.0",
            "value": 1199,
            "_view_count": null,
            "_view_module_version": "1.5.0",
            "orientation": "horizontal",
            "min": 0,
            "description_tooltip": null,
            "_model_module": "@jupyter-widgets/controls",
            "layout": "IPY_MODEL_067661754bd244ad814db1bef89ef09a"
          }
        },
        "026dbb7fefc7465399d6514fb1706130": {
          "model_module": "@jupyter-widgets/controls",
          "model_name": "HTMLModel",
          "state": {
            "_view_name": "HTMLView",
            "style": "IPY_MODEL_f824d9852eb24702b36bc56e57a716ff",
            "_dom_classes": [],
            "description": "",
            "_model_name": "HTMLModel",
            "placeholder": "​",
            "_view_module": "@jupyter-widgets/controls",
            "_model_module_version": "1.5.0",
            "value": " 1.20k/1.20k [00:00&lt;00:00, 2.65kB/s]",
            "_view_count": null,
            "_view_module_version": "1.5.0",
            "description_tooltip": null,
            "_model_module": "@jupyter-widgets/controls",
            "layout": "IPY_MODEL_5ea19b6afe62461a8209cfcdea94da5b"
          }
        },
        "47d5424ef2f5401a8df0909245c039f8": {
          "model_module": "@jupyter-widgets/controls",
          "model_name": "ProgressStyleModel",
          "state": {
            "_view_name": "StyleView",
            "_model_name": "ProgressStyleModel",
            "description_width": "initial",
            "_view_module": "@jupyter-widgets/base",
            "_model_module_version": "1.5.0",
            "_view_count": null,
            "_view_module_version": "1.2.0",
            "bar_color": null,
            "_model_module": "@jupyter-widgets/controls"
          }
        },
        "067661754bd244ad814db1bef89ef09a": {
          "model_module": "@jupyter-widgets/base",
          "model_name": "LayoutModel",
          "state": {
            "_view_name": "LayoutView",
            "grid_template_rows": null,
            "right": null,
            "justify_content": null,
            "_view_module": "@jupyter-widgets/base",
            "overflow": null,
            "_model_module_version": "1.2.0",
            "_view_count": null,
            "flex_flow": null,
            "width": null,
            "min_width": null,
            "border": null,
            "align_items": null,
            "bottom": null,
            "_model_module": "@jupyter-widgets/base",
            "top": null,
            "grid_column": null,
            "overflow_y": null,
            "overflow_x": null,
            "grid_auto_flow": null,
            "grid_area": null,
            "grid_template_columns": null,
            "flex": null,
            "_model_name": "LayoutModel",
            "justify_items": null,
            "grid_row": null,
            "max_height": null,
            "align_content": null,
            "visibility": null,
            "align_self": null,
            "height": null,
            "min_height": null,
            "padding": null,
            "grid_auto_rows": null,
            "grid_gap": null,
            "max_width": null,
            "order": null,
            "_view_module_version": "1.2.0",
            "grid_template_areas": null,
            "object_position": null,
            "object_fit": null,
            "grid_auto_columns": null,
            "margin": null,
            "display": null,
            "left": null
          }
        },
        "f824d9852eb24702b36bc56e57a716ff": {
          "model_module": "@jupyter-widgets/controls",
          "model_name": "DescriptionStyleModel",
          "state": {
            "_view_name": "StyleView",
            "_model_name": "DescriptionStyleModel",
            "description_width": "",
            "_view_module": "@jupyter-widgets/base",
            "_model_module_version": "1.5.0",
            "_view_count": null,
            "_view_module_version": "1.2.0",
            "_model_module": "@jupyter-widgets/controls"
          }
        },
        "5ea19b6afe62461a8209cfcdea94da5b": {
          "model_module": "@jupyter-widgets/base",
          "model_name": "LayoutModel",
          "state": {
            "_view_name": "LayoutView",
            "grid_template_rows": null,
            "right": null,
            "justify_content": null,
            "_view_module": "@jupyter-widgets/base",
            "overflow": null,
            "_model_module_version": "1.2.0",
            "_view_count": null,
            "flex_flow": null,
            "width": null,
            "min_width": null,
            "border": null,
            "align_items": null,
            "bottom": null,
            "_model_module": "@jupyter-widgets/base",
            "top": null,
            "grid_column": null,
            "overflow_y": null,
            "overflow_x": null,
            "grid_auto_flow": null,
            "grid_area": null,
            "grid_template_columns": null,
            "flex": null,
            "_model_name": "LayoutModel",
            "justify_items": null,
            "grid_row": null,
            "max_height": null,
            "align_content": null,
            "visibility": null,
            "align_self": null,
            "height": null,
            "min_height": null,
            "padding": null,
            "grid_auto_rows": null,
            "grid_gap": null,
            "max_width": null,
            "order": null,
            "_view_module_version": "1.2.0",
            "grid_template_areas": null,
            "object_position": null,
            "object_fit": null,
            "grid_auto_columns": null,
            "margin": null,
            "display": null,
            "left": null
          }
        },
        "da3a23242cd64303b922d4215a006ffa": {
          "model_module": "@jupyter-widgets/controls",
          "model_name": "HBoxModel",
          "state": {
            "_view_name": "HBoxView",
            "_dom_classes": [],
            "_model_name": "HBoxModel",
            "_view_module": "@jupyter-widgets/controls",
            "_model_module_version": "1.5.0",
            "_view_count": null,
            "_view_module_version": "1.5.0",
            "box_style": "",
            "layout": "IPY_MODEL_65bab16b997c40159715da4d4325136b",
            "_model_module": "@jupyter-widgets/controls",
            "children": [
              "IPY_MODEL_395b2bc89a2c4dcf856452ad22a4f4b7",
              "IPY_MODEL_e081bf883423424d91e64ef3eaa5196f"
            ]
          }
        },
        "65bab16b997c40159715da4d4325136b": {
          "model_module": "@jupyter-widgets/base",
          "model_name": "LayoutModel",
          "state": {
            "_view_name": "LayoutView",
            "grid_template_rows": null,
            "right": null,
            "justify_content": null,
            "_view_module": "@jupyter-widgets/base",
            "overflow": null,
            "_model_module_version": "1.2.0",
            "_view_count": null,
            "flex_flow": null,
            "width": null,
            "min_width": null,
            "border": null,
            "align_items": null,
            "bottom": null,
            "_model_module": "@jupyter-widgets/base",
            "top": null,
            "grid_column": null,
            "overflow_y": null,
            "overflow_x": null,
            "grid_auto_flow": null,
            "grid_area": null,
            "grid_template_columns": null,
            "flex": null,
            "_model_name": "LayoutModel",
            "justify_items": null,
            "grid_row": null,
            "max_height": null,
            "align_content": null,
            "visibility": null,
            "align_self": null,
            "height": null,
            "min_height": null,
            "padding": null,
            "grid_auto_rows": null,
            "grid_gap": null,
            "max_width": null,
            "order": null,
            "_view_module_version": "1.2.0",
            "grid_template_areas": null,
            "object_position": null,
            "object_fit": null,
            "grid_auto_columns": null,
            "margin": null,
            "display": null,
            "left": null
          }
        },
        "395b2bc89a2c4dcf856452ad22a4f4b7": {
          "model_module": "@jupyter-widgets/controls",
          "model_name": "FloatProgressModel",
          "state": {
            "_view_name": "ProgressView",
            "style": "IPY_MODEL_863131610c0d407ca57132cf1a47eaf1",
            "_dom_classes": [],
            "description": "Downloading: 100%",
            "_model_name": "FloatProgressModel",
            "bar_style": "success",
            "max": 891691430,
            "_view_module": "@jupyter-widgets/controls",
            "_model_module_version": "1.5.0",
            "value": 891691430,
            "_view_count": null,
            "_view_module_version": "1.5.0",
            "orientation": "horizontal",
            "min": 0,
            "description_tooltip": null,
            "_model_module": "@jupyter-widgets/controls",
            "layout": "IPY_MODEL_6351f7bc6cee49adb071d5e1731c5f35"
          }
        },
        "e081bf883423424d91e64ef3eaa5196f": {
          "model_module": "@jupyter-widgets/controls",
          "model_name": "HTMLModel",
          "state": {
            "_view_name": "HTMLView",
            "style": "IPY_MODEL_d1ca486b31034200899a5b7fd78e9169",
            "_dom_classes": [],
            "description": "",
            "_model_name": "HTMLModel",
            "placeholder": "​",
            "_view_module": "@jupyter-widgets/controls",
            "_model_module_version": "1.5.0",
            "value": " 892M/892M [00:14&lt;00:00, 59.5MB/s]",
            "_view_count": null,
            "_view_module_version": "1.5.0",
            "description_tooltip": null,
            "_model_module": "@jupyter-widgets/controls",
            "layout": "IPY_MODEL_bea52f3bc7e24a06a0f93a4d01adacdc"
          }
        },
        "863131610c0d407ca57132cf1a47eaf1": {
          "model_module": "@jupyter-widgets/controls",
          "model_name": "ProgressStyleModel",
          "state": {
            "_view_name": "StyleView",
            "_model_name": "ProgressStyleModel",
            "description_width": "initial",
            "_view_module": "@jupyter-widgets/base",
            "_model_module_version": "1.5.0",
            "_view_count": null,
            "_view_module_version": "1.2.0",
            "bar_color": null,
            "_model_module": "@jupyter-widgets/controls"
          }
        },
        "6351f7bc6cee49adb071d5e1731c5f35": {
          "model_module": "@jupyter-widgets/base",
          "model_name": "LayoutModel",
          "state": {
            "_view_name": "LayoutView",
            "grid_template_rows": null,
            "right": null,
            "justify_content": null,
            "_view_module": "@jupyter-widgets/base",
            "overflow": null,
            "_model_module_version": "1.2.0",
            "_view_count": null,
            "flex_flow": null,
            "width": null,
            "min_width": null,
            "border": null,
            "align_items": null,
            "bottom": null,
            "_model_module": "@jupyter-widgets/base",
            "top": null,
            "grid_column": null,
            "overflow_y": null,
            "overflow_x": null,
            "grid_auto_flow": null,
            "grid_area": null,
            "grid_template_columns": null,
            "flex": null,
            "_model_name": "LayoutModel",
            "justify_items": null,
            "grid_row": null,
            "max_height": null,
            "align_content": null,
            "visibility": null,
            "align_self": null,
            "height": null,
            "min_height": null,
            "padding": null,
            "grid_auto_rows": null,
            "grid_gap": null,
            "max_width": null,
            "order": null,
            "_view_module_version": "1.2.0",
            "grid_template_areas": null,
            "object_position": null,
            "object_fit": null,
            "grid_auto_columns": null,
            "margin": null,
            "display": null,
            "left": null
          }
        },
        "d1ca486b31034200899a5b7fd78e9169": {
          "model_module": "@jupyter-widgets/controls",
          "model_name": "DescriptionStyleModel",
          "state": {
            "_view_name": "StyleView",
            "_model_name": "DescriptionStyleModel",
            "description_width": "",
            "_view_module": "@jupyter-widgets/base",
            "_model_module_version": "1.5.0",
            "_view_count": null,
            "_view_module_version": "1.2.0",
            "_model_module": "@jupyter-widgets/controls"
          }
        },
        "bea52f3bc7e24a06a0f93a4d01adacdc": {
          "model_module": "@jupyter-widgets/base",
          "model_name": "LayoutModel",
          "state": {
            "_view_name": "LayoutView",
            "grid_template_rows": null,
            "right": null,
            "justify_content": null,
            "_view_module": "@jupyter-widgets/base",
            "overflow": null,
            "_model_module_version": "1.2.0",
            "_view_count": null,
            "flex_flow": null,
            "width": null,
            "min_width": null,
            "border": null,
            "align_items": null,
            "bottom": null,
            "_model_module": "@jupyter-widgets/base",
            "top": null,
            "grid_column": null,
            "overflow_y": null,
            "overflow_x": null,
            "grid_auto_flow": null,
            "grid_area": null,
            "grid_template_columns": null,
            "flex": null,
            "_model_name": "LayoutModel",
            "justify_items": null,
            "grid_row": null,
            "max_height": null,
            "align_content": null,
            "visibility": null,
            "align_self": null,
            "height": null,
            "min_height": null,
            "padding": null,
            "grid_auto_rows": null,
            "grid_gap": null,
            "max_width": null,
            "order": null,
            "_view_module_version": "1.2.0",
            "grid_template_areas": null,
            "object_position": null,
            "object_fit": null,
            "grid_auto_columns": null,
            "margin": null,
            "display": null,
            "left": null
          }
        }
      }
    }
  },
  "cells": [
    {
      "cell_type": "markdown",
      "metadata": {
        "id": "view-in-github",
        "colab_type": "text"
      },
      "source": [
        "<a href=\"https://colab.research.google.com/github/ahmedovich19/Machine-Learning-Projects/blob/master/BioAsq_question_answering_with_t5.ipynb\" target=\"_parent\"><img src=\"https://colab.research.google.com/assets/colab-badge.svg\" alt=\"Open In Colab\"/></a>"
      ]
    },
    {
      "cell_type": "code",
      "metadata": {
        "colab": {
          "base_uri": "https://localhost:8080/"
        },
        "id": "w0a0fq33xdZb",
        "outputId": "7e86a167-35df-439f-f551-2b49d0433ccd"
      },
      "source": [
        "!pip install --quiet transformers==4.1.1\r\n",
        "!pip install --quiet pytorch-lightning==1.1.1\r\n",
        "!pip install --quiet tokenizers==0.9.4\r\n",
        "!pip install --quiet sentencepiece==0.1.94\r\n"
      ],
      "execution_count": null,
      "outputs": [
        {
          "output_type": "stream",
          "text": [
            "\u001b[K     |████████████████████████████████| 1.5MB 8.1MB/s \n",
            "\u001b[K     |████████████████████████████████| 2.9MB 39.9MB/s \n",
            "\u001b[K     |████████████████████████████████| 890kB 52.6MB/s \n",
            "\u001b[?25h  Building wheel for sacremoses (setup.py) ... \u001b[?25l\u001b[?25hdone\n",
            "\u001b[K     |████████████████████████████████| 675kB 9.2MB/s \n",
            "\u001b[K     |████████████████████████████████| 645kB 15.7MB/s \n",
            "\u001b[K     |████████████████████████████████| 829kB 27.5MB/s \n",
            "\u001b[K     |████████████████████████████████| 112kB 49.0MB/s \n",
            "\u001b[?25h  Building wheel for future (setup.py) ... \u001b[?25l\u001b[?25hdone\n",
            "\u001b[K     |████████████████████████████████| 1.1MB 7.8MB/s \n",
            "\u001b[?25h"
          ],
          "name": "stdout"
        }
      ]
    },
    {
      "cell_type": "code",
      "metadata": {
        "id": "0N5pE2tkyhuR"
      },
      "source": [
        "import json\r\n",
        "import pandas as pd \r\n",
        "import numpy as np\r\n",
        "import torch\r\n",
        "from pathlib import Path\r\n",
        "from torch.utils.data import Dataset, DataLoader\r\n",
        "import pytorch_lightning as pl\r\n",
        "from pytorch_lightning.callbacks import ModelCheckpoint\r\n",
        "from sklearn.model_selection import train_test_split\r\n",
        "from termcolor import colored\r\n",
        "import textwrap\r\n",
        "\r\n",
        "from transformers import (\r\n",
        "    AdamW,\r\n",
        "    T5ForConditionalGeneration,\r\n",
        "    T5TokenizerFast as T5Tokenizer\r\n",
        ")\r\n"
      ],
      "execution_count": null,
      "outputs": []
    },
    {
      "cell_type": "code",
      "metadata": {
        "colab": {
          "base_uri": "https://localhost:8080/"
        },
        "id": "6fUOclsBBZ_1",
        "outputId": "00c3cc2e-bad4-4582-cbc3-d26c962ed3e9"
      },
      "source": [
        "pl.seed_everything(42)"
      ],
      "execution_count": null,
      "outputs": [
        {
          "output_type": "execute_result",
          "data": {
            "text/plain": [
              "42"
            ]
          },
          "metadata": {
            "tags": []
          },
          "execution_count": 3
        }
      ]
    },
    {
      "cell_type": "code",
      "metadata": {
        "colab": {
          "base_uri": "https://localhost:8080/"
        },
        "id": "gQocjplMSph1",
        "outputId": "11a7a478-9263-4c4a-e3a7-116450c0b16f"
      },
      "source": [
        "%cd /content/drive/My\\ Drive/"
      ],
      "execution_count": null,
      "outputs": [
        {
          "output_type": "stream",
          "text": [
            "/content/drive/My Drive\n"
          ],
          "name": "stdout"
        }
      ]
    },
    {
      "cell_type": "code",
      "metadata": {
        "id": "p4wWoZTHT-qQ"
      },
      "source": [
        "!unzip -q QA.zip"
      ],
      "execution_count": null,
      "outputs": []
    },
    {
      "cell_type": "code",
      "metadata": {
        "id": "nt0qhzT8XZQu"
      },
      "source": [
        "with Path(\"BioASQ/BioASQ-train-factoid-4b.json\").open() as json_file:\r\n",
        "  data = json.load(json_file)"
      ],
      "execution_count": null,
      "outputs": []
    },
    {
      "cell_type": "code",
      "metadata": {
        "id": "F8vXsFEGX8vc"
      },
      "source": [
        "questions = data['data'][0]['paragraphs']"
      ],
      "execution_count": null,
      "outputs": []
    },
    {
      "cell_type": "code",
      "metadata": {
        "id": "eVqI-RqpX_SK"
      },
      "source": [
        "def extract_questions_and_answers(factoid_path: Path):\r\n",
        "  with factoid_path.open() as json_file:\r\n",
        "    data = json.load(json_file)\r\n",
        "  \r\n",
        "  questions = data['data'][0]['paragraphs']\r\n",
        "\r\n",
        "  data_rows = []\r\n",
        "\r\n",
        "  for question in questions:\r\n",
        "    context = question['context']\r\n",
        "    for question_and_answers in question['qas']:\r\n",
        "      question = question_and_answers['question']\r\n",
        "      answers = question_and_answers['answers']\r\n",
        "      for answer in answers:\r\n",
        "        answer_text = answer['text']\r\n",
        "        answer_start = answer['answer_start']\r\n",
        "        answer_end  = answer_start + len(answer_text)\r\n",
        "\r\n",
        "        data_rows.append({\r\n",
        "            'question': question,\r\n",
        "            'context' : context,\r\n",
        "            \"answer_text\" : answer_text,\r\n",
        "            \"answer_start\" : answer_start,\r\n",
        "            \"answer_end\" : answer_end\r\n",
        "        })\r\n",
        "  return pd.DataFrame(data_rows)"
      ],
      "execution_count": null,
      "outputs": []
    },
    {
      "cell_type": "code",
      "metadata": {
        "colab": {
          "base_uri": "https://localhost:8080/",
          "height": 323
        },
        "id": "qhBTWYXehhpL",
        "outputId": "82fa0c24-67fa-4ff1-9fe7-5085e3852251"
      },
      "source": [
        "extract_questions_and_answers(Path(\"BioASQ/BioASQ-train-factoid-4b.json\")).head()"
      ],
      "execution_count": null,
      "outputs": [
        {
          "output_type": "execute_result",
          "data": {
            "text/html": [
              "<div>\n",
              "<style scoped>\n",
              "    .dataframe tbody tr th:only-of-type {\n",
              "        vertical-align: middle;\n",
              "    }\n",
              "\n",
              "    .dataframe tbody tr th {\n",
              "        vertical-align: top;\n",
              "    }\n",
              "\n",
              "    .dataframe thead th {\n",
              "        text-align: right;\n",
              "    }\n",
              "</style>\n",
              "<table border=\"1\" class=\"dataframe\">\n",
              "  <thead>\n",
              "    <tr style=\"text-align: right;\">\n",
              "      <th></th>\n",
              "      <th>question</th>\n",
              "      <th>context</th>\n",
              "      <th>answer_text</th>\n",
              "      <th>answer_start</th>\n",
              "      <th>answer_end</th>\n",
              "    </tr>\n",
              "  </thead>\n",
              "  <tbody>\n",
              "    <tr>\n",
              "      <th>0</th>\n",
              "      <td>What is the inheritance pattern of Li–Fraumeni...</td>\n",
              "      <td>Balanced t(11;15)(q23;q15) in a TP53+/+ breast...</td>\n",
              "      <td>autosomal dominant</td>\n",
              "      <td>213</td>\n",
              "      <td>231</td>\n",
              "    </tr>\n",
              "    <tr>\n",
              "      <th>1</th>\n",
              "      <td>What is the inheritance pattern of Li–Fraumeni...</td>\n",
              "      <td>Genetic modeling of Li-Fraumeni syndrome in ze...</td>\n",
              "      <td>autosomal dominant</td>\n",
              "      <td>105</td>\n",
              "      <td>123</td>\n",
              "    </tr>\n",
              "    <tr>\n",
              "      <th>2</th>\n",
              "      <td>Which type of lung cancer is afatinib used for?</td>\n",
              "      <td>Clinical perspective of afatinib in non-small ...</td>\n",
              "      <td>EGFR-mutant NSCLC</td>\n",
              "      <td>1203</td>\n",
              "      <td>1220</td>\n",
              "    </tr>\n",
              "    <tr>\n",
              "      <th>3</th>\n",
              "      <td>Which hormone abnormalities are characteristic...</td>\n",
              "      <td>DOCA sensitive pendrin expression in kidney, h...</td>\n",
              "      <td>thyroid</td>\n",
              "      <td>419</td>\n",
              "      <td>426</td>\n",
              "    </tr>\n",
              "    <tr>\n",
              "      <th>4</th>\n",
              "      <td>Which hormone abnormalities are characteristic...</td>\n",
              "      <td>Clinical and molecular characteristics of Pend...</td>\n",
              "      <td>thyroid</td>\n",
              "      <td>705</td>\n",
              "      <td>712</td>\n",
              "    </tr>\n",
              "  </tbody>\n",
              "</table>\n",
              "</div>"
            ],
            "text/plain": [
              "                                            question  ... answer_end\n",
              "0  What is the inheritance pattern of Li–Fraumeni...  ...        231\n",
              "1  What is the inheritance pattern of Li–Fraumeni...  ...        123\n",
              "2    Which type of lung cancer is afatinib used for?  ...       1220\n",
              "3  Which hormone abnormalities are characteristic...  ...        426\n",
              "4  Which hormone abnormalities are characteristic...  ...        712\n",
              "\n",
              "[5 rows x 5 columns]"
            ]
          },
          "metadata": {
            "tags": []
          },
          "execution_count": 11
        }
      ]
    },
    {
      "cell_type": "code",
      "metadata": {
        "colab": {
          "base_uri": "https://localhost:8080/"
        },
        "id": "6tlgkXphisQZ",
        "outputId": "1ff42c3f-8f83-488d-db4d-4ea28b6fdf22"
      },
      "source": [
        "factoid_paths = sorted(list(Path(\"BioASQ/\").glob(\"BioASQ-train-*\")))\r\n",
        "factoid_paths"
      ],
      "execution_count": null,
      "outputs": [
        {
          "output_type": "execute_result",
          "data": {
            "text/plain": [
              "[PosixPath('BioASQ/BioASQ-train-factoid-4b.json'),\n",
              " PosixPath('BioASQ/BioASQ-train-factoid-5b.json'),\n",
              " PosixPath('BioASQ/BioASQ-train-factoid-6b.json')]"
            ]
          },
          "metadata": {
            "tags": []
          },
          "execution_count": 6
        }
      ]
    },
    {
      "cell_type": "code",
      "metadata": {
        "id": "1687ZHUEsypV"
      },
      "source": [
        "dfs = []\r\n",
        "for factoid_path in factoid_paths:\r\n",
        "  dfs.append(extract_questions_and_answers(factoid_path))\r\n",
        "df = pd.concat(dfs)"
      ],
      "execution_count": null,
      "outputs": []
    },
    {
      "cell_type": "code",
      "metadata": {
        "colab": {
          "base_uri": "https://localhost:8080/",
          "height": 725
        },
        "id": "duNRuFY-tDCR",
        "outputId": "556864a0-6c94-491d-d2e2-5ce5b49a6699"
      },
      "source": [
        "df"
      ],
      "execution_count": null,
      "outputs": [
        {
          "output_type": "execute_result",
          "data": {
            "text/html": [
              "<div>\n",
              "<style scoped>\n",
              "    .dataframe tbody tr th:only-of-type {\n",
              "        vertical-align: middle;\n",
              "    }\n",
              "\n",
              "    .dataframe tbody tr th {\n",
              "        vertical-align: top;\n",
              "    }\n",
              "\n",
              "    .dataframe thead th {\n",
              "        text-align: right;\n",
              "    }\n",
              "</style>\n",
              "<table border=\"1\" class=\"dataframe\">\n",
              "  <thead>\n",
              "    <tr style=\"text-align: right;\">\n",
              "      <th></th>\n",
              "      <th>question</th>\n",
              "      <th>context</th>\n",
              "      <th>answer_text</th>\n",
              "      <th>answer_start</th>\n",
              "      <th>answer_end</th>\n",
              "    </tr>\n",
              "  </thead>\n",
              "  <tbody>\n",
              "    <tr>\n",
              "      <th>0</th>\n",
              "      <td>What is the inheritance pattern of Li–Fraumeni...</td>\n",
              "      <td>Balanced t(11;15)(q23;q15) in a TP53+/+ breast...</td>\n",
              "      <td>autosomal dominant</td>\n",
              "      <td>213</td>\n",
              "      <td>231</td>\n",
              "    </tr>\n",
              "    <tr>\n",
              "      <th>1</th>\n",
              "      <td>What is the inheritance pattern of Li–Fraumeni...</td>\n",
              "      <td>Genetic modeling of Li-Fraumeni syndrome in ze...</td>\n",
              "      <td>autosomal dominant</td>\n",
              "      <td>105</td>\n",
              "      <td>123</td>\n",
              "    </tr>\n",
              "    <tr>\n",
              "      <th>2</th>\n",
              "      <td>Which type of lung cancer is afatinib used for?</td>\n",
              "      <td>Clinical perspective of afatinib in non-small ...</td>\n",
              "      <td>EGFR-mutant NSCLC</td>\n",
              "      <td>1203</td>\n",
              "      <td>1220</td>\n",
              "    </tr>\n",
              "    <tr>\n",
              "      <th>3</th>\n",
              "      <td>Which hormone abnormalities are characteristic...</td>\n",
              "      <td>DOCA sensitive pendrin expression in kidney, h...</td>\n",
              "      <td>thyroid</td>\n",
              "      <td>419</td>\n",
              "      <td>426</td>\n",
              "    </tr>\n",
              "    <tr>\n",
              "      <th>4</th>\n",
              "      <td>Which hormone abnormalities are characteristic...</td>\n",
              "      <td>Clinical and molecular characteristics of Pend...</td>\n",
              "      <td>thyroid</td>\n",
              "      <td>705</td>\n",
              "      <td>712</td>\n",
              "    </tr>\n",
              "    <tr>\n",
              "      <th>...</th>\n",
              "      <td>...</td>\n",
              "      <td>...</td>\n",
              "      <td>...</td>\n",
              "      <td>...</td>\n",
              "      <td>...</td>\n",
              "    </tr>\n",
              "    <tr>\n",
              "      <th>4767</th>\n",
              "      <td>What is the role of TAD protein domain?</td>\n",
              "      <td>Sequestration of p53 in the cytoplasm by adeno...</td>\n",
              "      <td>transactivation domain</td>\n",
              "      <td>765</td>\n",
              "      <td>787</td>\n",
              "    </tr>\n",
              "    <tr>\n",
              "      <th>4768</th>\n",
              "      <td>What is the role of TAD protein domain?</td>\n",
              "      <td>Leu628 of the KIX domain of CBP is a key resid...</td>\n",
              "      <td>transactivation domain</td>\n",
              "      <td>139</td>\n",
              "      <td>161</td>\n",
              "    </tr>\n",
              "    <tr>\n",
              "      <th>4769</th>\n",
              "      <td>What is the role of TAD protein domain?</td>\n",
              "      <td>Sequestration of p53 in the cytoplasm by adeno...</td>\n",
              "      <td>transactivation domain</td>\n",
              "      <td>765</td>\n",
              "      <td>787</td>\n",
              "    </tr>\n",
              "    <tr>\n",
              "      <th>4770</th>\n",
              "      <td>What is the role of TAD protein domain?</td>\n",
              "      <td>Essential roles of Da transactivation domains ...</td>\n",
              "      <td>transcription activation domain</td>\n",
              "      <td>401</td>\n",
              "      <td>432</td>\n",
              "    </tr>\n",
              "    <tr>\n",
              "      <th>4771</th>\n",
              "      <td>What is the role of TAD protein domain?</td>\n",
              "      <td>Histone deacetylase inhibitors synergize p300 ...</td>\n",
              "      <td>transactivation domain</td>\n",
              "      <td>498</td>\n",
              "      <td>520</td>\n",
              "    </tr>\n",
              "  </tbody>\n",
              "</table>\n",
              "<p>12988 rows × 5 columns</p>\n",
              "</div>"
            ],
            "text/plain": [
              "                                               question  ... answer_end\n",
              "0     What is the inheritance pattern of Li–Fraumeni...  ...        231\n",
              "1     What is the inheritance pattern of Li–Fraumeni...  ...        123\n",
              "2       Which type of lung cancer is afatinib used for?  ...       1220\n",
              "3     Which hormone abnormalities are characteristic...  ...        426\n",
              "4     Which hormone abnormalities are characteristic...  ...        712\n",
              "...                                                 ...  ...        ...\n",
              "4767            What is the role of TAD protein domain?  ...        787\n",
              "4768            What is the role of TAD protein domain?  ...        161\n",
              "4769            What is the role of TAD protein domain?  ...        787\n",
              "4770            What is the role of TAD protein domain?  ...        432\n",
              "4771            What is the role of TAD protein domain?  ...        520\n",
              "\n",
              "[12988 rows x 5 columns]"
            ]
          },
          "metadata": {
            "tags": []
          },
          "execution_count": 9
        }
      ]
    },
    {
      "cell_type": "code",
      "metadata": {
        "id": "m9R_sa8QlIpB"
      },
      "source": [
        "df = df.drop_duplicates(subset=['context']).reset_index(drop=True)"
      ],
      "execution_count": null,
      "outputs": []
    },
    {
      "cell_type": "code",
      "metadata": {
        "colab": {
          "base_uri": "https://localhost:8080/"
        },
        "id": "1won7MTpmgTJ",
        "outputId": "6325ec83-a1b0-4b83-cec7-a180cf4ea933"
      },
      "source": [
        "df.shape"
      ],
      "execution_count": null,
      "outputs": [
        {
          "output_type": "execute_result",
          "data": {
            "text/plain": [
              "(2582, 5)"
            ]
          },
          "metadata": {
            "tags": []
          },
          "execution_count": 10
        }
      ]
    },
    {
      "cell_type": "code",
      "metadata": {
        "colab": {
          "base_uri": "https://localhost:8080/"
        },
        "id": "FDUO1j_RtWqS",
        "outputId": "b617b0c6-3dff-47ed-e109-ff66402a625d"
      },
      "source": [
        "len(df.question.unique())"
      ],
      "execution_count": null,
      "outputs": [
        {
          "output_type": "execute_result",
          "data": {
            "text/plain": [
              "441"
            ]
          },
          "metadata": {
            "tags": []
          },
          "execution_count": 12
        }
      ]
    },
    {
      "cell_type": "code",
      "metadata": {
        "colab": {
          "base_uri": "https://localhost:8080/"
        },
        "id": "Yx4W9zVKvUc-",
        "outputId": "6ff2b04c-9bab-4aae-f3a7-954f5d85c079"
      },
      "source": [
        "sample_question = df.iloc[240]\r\n",
        "sample_question"
      ],
      "execution_count": null,
      "outputs": [
        {
          "output_type": "execute_result",
          "data": {
            "text/plain": [
              "question        What is the characteristic feature of the Dyke...\n",
              "context         Left hemisphere and male sex dominance of cere...\n",
              "answer_text                                  cerebral hemiatrophy\n",
              "answer_start                                                  130\n",
              "answer_end                                                    150\n",
              "Name: 240, dtype: object"
            ]
          },
          "metadata": {
            "tags": []
          },
          "execution_count": 19
        }
      ]
    },
    {
      "cell_type": "code",
      "metadata": {
        "id": "hfvlKgWDvX8X"
      },
      "source": [
        "def color_answer(question):\r\n",
        "  answer_start, answer_end = question['answer_start'],question[\"answer_end\"]\r\n",
        "  context = question['context']\r\n",
        "\r\n",
        "  return colored(context[:answer_start],'white') + \\\r\n",
        "    colored(context[answer_start:answer_end + 1],'green') + \\\r\n",
        "    colored(context[answer_end + 1:],'white')"
      ],
      "execution_count": null,
      "outputs": []
    },
    {
      "cell_type": "code",
      "metadata": {
        "colab": {
          "base_uri": "https://localhost:8080/"
        },
        "id": "YscjpXojxYX_",
        "outputId": "00ec4bd5-6130-436e-cc1a-ba6a6e06bbb1"
      },
      "source": [
        "print(sample_question['question'])\r\n",
        "print()\r\n",
        "print(\"Answers\")\r\n",
        "\r\n",
        "\r\n",
        "for wrap in textwrap.wrap(color_answer(sample_question),width=100):\r\n",
        "  print(wrap)"
      ],
      "execution_count": null,
      "outputs": [
        {
          "output_type": "stream",
          "text": [
            "What is the characteristic feature of the Dyke-Davidoff-Masson syndrome.\n",
            "\n",
            "Answers\n",
            "\u001b[37mLeft hemisphere and male sex dominance of cerebral hemiatrophy (Dyke-Davidoff-Masson Syndrome).\n",
            "Although radiological findings of \u001b[0m\u001b[32mcerebral hemiatrophy \u001b[0m\u001b[37m(Dyke-Davidoff-Masson\n",
            "Syndrome) are well known, there is no systematic study about the gender and the affected side in\n",
            "this syndrome. Brain images in 26 patients (mean aged 11) with cerebral hemiatrophy were\n",
            "retrospectively reviewed. Nineteen patients (73.5%) were male and seven patients (26.5%) were\n",
            "female. Left hemisphere involvement was seen in 18 patients (69.2%) and right hemisphere involvement\n",
            "was seen in eight patients (30.8%). We conclude that male gender and left side involvement are\n",
            "frequent in cerebral hemiatrophy disease.\u001b[0m\n"
          ],
          "name": "stdout"
        }
      ]
    },
    {
      "cell_type": "markdown",
      "metadata": {
        "id": "1CA1BA1D1fb-"
      },
      "source": [
        "# Tokenization"
      ]
    },
    {
      "cell_type": "code",
      "metadata": {
        "id": "Rtz6sRHX2YTB"
      },
      "source": [
        "MODEL_NAME = \"t5-base\""
      ],
      "execution_count": null,
      "outputs": []
    },
    {
      "cell_type": "code",
      "metadata": {
        "id": "x7HxT5cw27Uj",
        "colab": {
          "base_uri": "https://localhost:8080/",
          "height": 115,
          "referenced_widgets": [
            "682e4bf0839c42ed84a33c0f245fa86a",
            "b89ceb38560f466c93aff4fb7c9c6bdf",
            "ee2f70de01b948188a601b4fcd4586bc",
            "0ed12093ea924b4eaab6b0bfb735da4f",
            "d48c9552fe80437fb4fa6294125a8e80",
            "8035b3127a4048ddadcb2e0836ed7bc9",
            "69e3eb0ceb644240b2278805f4e132eb",
            "64fb60a5f6f24275afb0153cc9270edc",
            "97cd4970386147f59740a4b3e1bac862",
            "aa057e775dbe490abd9c194b1f680c47",
            "b9ef23aa1b4b4b08a2a39cb7d9610447",
            "4cbc9ad922a2457cae45bf5ee362478e",
            "5051f5526d814e95b440db50ea1d7ef1",
            "c13c476ec536430e8489f9d4ac9c2342",
            "d00e0217d7b94ff5b90b1f4df172178e",
            "d17e0455df204ee38e425cf62be15af3"
          ]
        },
        "outputId": "1af6e782-1d5b-4903-e71e-111588dced49"
      },
      "source": [
        "tokenizer = T5Tokenizer.from_pretrained(MODEL_NAME)"
      ],
      "execution_count": null,
      "outputs": [
        {
          "output_type": "display_data",
          "data": {
            "application/vnd.jupyter.widget-view+json": {
              "model_id": "682e4bf0839c42ed84a33c0f245fa86a",
              "version_minor": 0,
              "version_major": 2
            },
            "text/plain": [
              "HBox(children=(FloatProgress(value=0.0, description='Downloading', max=791656.0, style=ProgressStyle(descripti…"
            ]
          },
          "metadata": {
            "tags": []
          }
        },
        {
          "output_type": "stream",
          "text": [
            "\n"
          ],
          "name": "stdout"
        },
        {
          "output_type": "display_data",
          "data": {
            "application/vnd.jupyter.widget-view+json": {
              "model_id": "97cd4970386147f59740a4b3e1bac862",
              "version_minor": 0,
              "version_major": 2
            },
            "text/plain": [
              "HBox(children=(FloatProgress(value=0.0, description='Downloading', max=1389353.0, style=ProgressStyle(descript…"
            ]
          },
          "metadata": {
            "tags": []
          }
        },
        {
          "output_type": "stream",
          "text": [
            "\n"
          ],
          "name": "stdout"
        }
      ]
    },
    {
      "cell_type": "code",
      "metadata": {
        "id": "uniI5Q0M47GP"
      },
      "source": [
        "encoding = tokenizer(\r\n",
        "    sample_question['question'],\r\n",
        "    sample_question['context'],\r\n",
        "    max_length=396,\r\n",
        "    padding=\"max_length\",\r\n",
        "    truncation=\"only_second\",\r\n",
        "    return_attention_mask=True,\r\n",
        "    add_special_tokens=True,\r\n",
        "    return_tensors=\"pt\"\r\n",
        ")"
      ],
      "execution_count": null,
      "outputs": []
    },
    {
      "cell_type": "code",
      "metadata": {
        "id": "gHwQNOen6Ibi",
        "colab": {
          "base_uri": "https://localhost:8080/"
        },
        "outputId": "fe8b285c-af0a-485c-ac2f-1acd630800b2"
      },
      "source": [
        "encoding.keys()"
      ],
      "execution_count": null,
      "outputs": [
        {
          "output_type": "execute_result",
          "data": {
            "text/plain": [
              "dict_keys(['input_ids', 'attention_mask'])"
            ]
          },
          "metadata": {
            "tags": []
          },
          "execution_count": 27
        }
      ]
    },
    {
      "cell_type": "code",
      "metadata": {
        "id": "WlZq31YU6Pt0",
        "colab": {
          "base_uri": "https://localhost:8080/"
        },
        "outputId": "e5ad209c-657b-4599-a44d-5767806d0a97"
      },
      "source": [
        "tokenizer.special_tokens_map"
      ],
      "execution_count": null,
      "outputs": [
        {
          "output_type": "execute_result",
          "data": {
            "text/plain": [
              "{'additional_special_tokens': \"['<extra_id_0>', '<extra_id_1>', '<extra_id_2>', '<extra_id_3>', '<extra_id_4>', '<extra_id_5>', '<extra_id_6>', '<extra_id_7>', '<extra_id_8>', '<extra_id_9>', '<extra_id_10>', '<extra_id_11>', '<extra_id_12>', '<extra_id_13>', '<extra_id_14>', '<extra_id_15>', '<extra_id_16>', '<extra_id_17>', '<extra_id_18>', '<extra_id_19>', '<extra_id_20>', '<extra_id_21>', '<extra_id_22>', '<extra_id_23>', '<extra_id_24>', '<extra_id_25>', '<extra_id_26>', '<extra_id_27>', '<extra_id_28>', '<extra_id_29>', '<extra_id_30>', '<extra_id_31>', '<extra_id_32>', '<extra_id_33>', '<extra_id_34>', '<extra_id_35>', '<extra_id_36>', '<extra_id_37>', '<extra_id_38>', '<extra_id_39>', '<extra_id_40>', '<extra_id_41>', '<extra_id_42>', '<extra_id_43>', '<extra_id_44>', '<extra_id_45>', '<extra_id_46>', '<extra_id_47>', '<extra_id_48>', '<extra_id_49>', '<extra_id_50>', '<extra_id_51>', '<extra_id_52>', '<extra_id_53>', '<extra_id_54>', '<extra_id_55>', '<extra_id_56>', '<extra_id_57>', '<extra_id_58>', '<extra_id_59>', '<extra_id_60>', '<extra_id_61>', '<extra_id_62>', '<extra_id_63>', '<extra_id_64>', '<extra_id_65>', '<extra_id_66>', '<extra_id_67>', '<extra_id_68>', '<extra_id_69>', '<extra_id_70>', '<extra_id_71>', '<extra_id_72>', '<extra_id_73>', '<extra_id_74>', '<extra_id_75>', '<extra_id_76>', '<extra_id_77>', '<extra_id_78>', '<extra_id_79>', '<extra_id_80>', '<extra_id_81>', '<extra_id_82>', '<extra_id_83>', '<extra_id_84>', '<extra_id_85>', '<extra_id_86>', '<extra_id_87>', '<extra_id_88>', '<extra_id_89>', '<extra_id_90>', '<extra_id_91>', '<extra_id_92>', '<extra_id_93>', '<extra_id_94>', '<extra_id_95>', '<extra_id_96>', '<extra_id_97>', '<extra_id_98>', '<extra_id_99>']\",\n",
              " 'eos_token': '</s>',\n",
              " 'pad_token': '<pad>',\n",
              " 'unk_token': '<unk>'}"
            ]
          },
          "metadata": {
            "tags": []
          },
          "execution_count": 28
        }
      ]
    },
    {
      "cell_type": "code",
      "metadata": {
        "id": "U0LuTfbG6Xty",
        "colab": {
          "base_uri": "https://localhost:8080/"
        },
        "outputId": "ce6ce1a3-85b7-4f37-cf79-b93451b6b521"
      },
      "source": [
        "tokenizer.eos_token,tokenizer.eos_token_id"
      ],
      "execution_count": null,
      "outputs": [
        {
          "output_type": "execute_result",
          "data": {
            "text/plain": [
              "('</s>', 1)"
            ]
          },
          "metadata": {
            "tags": []
          },
          "execution_count": 35
        }
      ]
    },
    {
      "cell_type": "code",
      "metadata": {
        "id": "YC7xLvqZ6h3C",
        "colab": {
          "base_uri": "https://localhost:8080/",
          "height": 239
        },
        "outputId": "ac26000a-2c9a-4b18-b87d-5517c3ccc0fd"
      },
      "source": [
        "tokenizer.decode(encoding['input_ids'].squeeze())"
      ],
      "execution_count": null,
      "outputs": [
        {
          "output_type": "execute_result",
          "data": {
            "application/vnd.google.colaboratory.intrinsic+json": {
              "type": "string"
            },
            "text/plain": [
              "'What is the characteristic feature of the Dyke-Davidoff-Masson syndrome.</s> Left hemisphere and male sex dominance of cerebral hemiatrophy (Dyke-Davidoff-Masson Syndrome). Although radiological findings of cerebral hemiatrophy (Dyke-Davidoff-Masson Syndrome) are well known, there is no systematic study about the gender and the affected side in this syndrome. Brain images in 26 patients (mean aged 11) with cerebral hemiatrophy were retrospectively reviewed. Nineteen patients (73.5%) were male and seven patients (26.5%) were female. Left hemisphere involvement was seen in 18 patients (69.2%) and right hemisphere involvement was seen in eight patients (30.8%). We conclude that male gender and left side involvement are frequent in cerebral hemiatrophy disease.</s><pad><pad><pad><pad><pad><pad><pad><pad><pad><pad><pad><pad><pad><pad><pad><pad><pad><pad><pad><pad><pad><pad><pad><pad><pad><pad><pad><pad><pad><pad><pad><pad><pad><pad><pad><pad><pad><pad><pad><pad><pad><pad><pad><pad><pad><pad><pad><pad><pad><pad><pad><pad><pad><pad><pad><pad><pad><pad><pad><pad><pad><pad><pad><pad><pad><pad><pad><pad><pad><pad><pad><pad><pad><pad><pad><pad><pad><pad><pad><pad><pad><pad><pad><pad><pad><pad><pad><pad><pad><pad><pad><pad><pad><pad><pad><pad><pad><pad><pad><pad><pad><pad><pad><pad><pad><pad><pad><pad><pad><pad><pad><pad><pad><pad><pad><pad><pad><pad><pad><pad><pad><pad><pad><pad><pad><pad><pad><pad><pad><pad><pad><pad><pad><pad><pad><pad><pad><pad><pad><pad><pad><pad><pad><pad><pad><pad><pad><pad><pad><pad><pad><pad><pad><pad><pad><pad><pad><pad><pad><pad><pad><pad><pad><pad><pad><pad><pad><pad><pad><pad><pad><pad><pad><pad><pad><pad><pad><pad><pad><pad><pad><pad><pad><pad><pad><pad><pad><pad><pad><pad><pad><pad><pad><pad><pad><pad><pad><pad><pad><pad><pad><pad><pad><pad><pad>'"
            ]
          },
          "metadata": {
            "tags": []
          },
          "execution_count": 36
        }
      ]
    },
    {
      "cell_type": "code",
      "metadata": {
        "id": "shdVja256yQp"
      },
      "source": [
        "answer_encoding = tokenizer(\r\n",
        "    sample_question['answer_text'],\r\n",
        "    max_length=32,\r\n",
        "    padding=\"max_length\",\r\n",
        "    truncation=True,\r\n",
        "    return_attention_mask=True,\r\n",
        "    add_special_tokens=True,\r\n",
        "    return_tensors=\"pt\"\r\n",
        "\r\n",
        ")"
      ],
      "execution_count": null,
      "outputs": []
    },
    {
      "cell_type": "code",
      "metadata": {
        "id": "yX8JXGyP9K5m",
        "colab": {
          "base_uri": "https://localhost:8080/",
          "height": 52
        },
        "outputId": "9c04869d-e4c5-48b2-dc78-7139f6ca4461"
      },
      "source": [
        "tokenizer.decode(answer_encoding['input_ids'].squeeze())"
      ],
      "execution_count": null,
      "outputs": [
        {
          "output_type": "execute_result",
          "data": {
            "application/vnd.google.colaboratory.intrinsic+json": {
              "type": "string"
            },
            "text/plain": [
              "'cerebral hemiatrophy</s><pad><pad><pad><pad><pad><pad><pad><pad><pad><pad><pad><pad><pad><pad><pad><pad><pad><pad><pad><pad><pad><pad><pad><pad><pad>'"
            ]
          },
          "metadata": {
            "tags": []
          },
          "execution_count": 42
        }
      ]
    },
    {
      "cell_type": "code",
      "metadata": {
        "id": "PI9uodr59fG4",
        "colab": {
          "base_uri": "https://localhost:8080/"
        },
        "outputId": "82fd52bd-aad7-4dce-f499-e809c3a3ae7e"
      },
      "source": [
        "labels = answer_encoding['input_ids']\r\n",
        "labels"
      ],
      "execution_count": null,
      "outputs": [
        {
          "output_type": "execute_result",
          "data": {
            "text/plain": [
              "tensor([[24387,     3,   107, 11658,    17, 29006,     1,     0,     0,     0,\n",
              "             0,     0,     0,     0,     0,     0,     0,     0,     0,     0,\n",
              "             0,     0,     0,     0,     0,     0,     0,     0,     0,     0,\n",
              "             0,     0]])"
            ]
          },
          "metadata": {
            "tags": []
          },
          "execution_count": 27
        }
      ]
    },
    {
      "cell_type": "code",
      "metadata": {
        "id": "x3uHfOjn-RNf"
      },
      "source": [
        "labels[labels==0] = -100"
      ],
      "execution_count": null,
      "outputs": []
    },
    {
      "cell_type": "code",
      "metadata": {
        "id": "qcCmn0gW-ZXA",
        "colab": {
          "base_uri": "https://localhost:8080/"
        },
        "outputId": "d38e8104-b157-46f5-b463-d4cd7ae6b6d3"
      },
      "source": [
        "labels"
      ],
      "execution_count": null,
      "outputs": [
        {
          "output_type": "execute_result",
          "data": {
            "text/plain": [
              "tensor([[24387,     3,   107, 11658,    17, 29006,     1,  -100,  -100,  -100,\n",
              "          -100,  -100,  -100,  -100,  -100,  -100,  -100,  -100,  -100,  -100,\n",
              "          -100,  -100,  -100,  -100,  -100,  -100,  -100,  -100,  -100,  -100,\n",
              "          -100,  -100]])"
            ]
          },
          "metadata": {
            "tags": []
          },
          "execution_count": 29
        }
      ]
    },
    {
      "cell_type": "code",
      "metadata": {
        "id": "OjKzrW9y-gGz"
      },
      "source": [
        "class BioQADataset(Dataset):\r\n",
        "  def __init__(\r\n",
        "      self,\r\n",
        "      data:pd.DataFrame,\r\n",
        "      tokenizer:T5Tokenizer,\r\n",
        "      source_max_token_len: int = 256,\r\n",
        "      target_max_token_len: int = 32,\r\n",
        "\r\n",
        "      ):\r\n",
        "    \r\n",
        "    self.data =  data\r\n",
        "    self.tokenizer =  tokenizer\r\n",
        "    self.source_max_token_len =  source_max_token_len\r\n",
        "    self.target_max_token_len =  target_max_token_len\r\n",
        "\r\n",
        "\r\n",
        "  def __len__(self):\r\n",
        "    return len(self.data)\r\n",
        "\r\n",
        "  def __getitem__(self, index: int):\r\n",
        "    data_row = self.data.iloc[index]\r\n",
        "\r\n",
        "    source_encoding = tokenizer(\r\n",
        "      data_row['question'],\r\n",
        "      data_row['context'],\r\n",
        "      max_length=self.source_max_token_len,\r\n",
        "      padding='max_length',\r\n",
        "      truncation=\"only_second\",\r\n",
        "      return_attention_mask=True,\r\n",
        "      add_special_tokens=True,\r\n",
        "      return_tensors=\"pt\"\r\n",
        "      )\r\n",
        "    \r\n",
        "    target_encoding = tokenizer(\r\n",
        "      data_row['answer_text'],\r\n",
        "      max_length=self.target_max_token_len,\r\n",
        "      padding='max_length',\r\n",
        "      truncation=True,\r\n",
        "      return_attention_mask=True,\r\n",
        "      add_special_tokens=True,\r\n",
        "      return_tensors=\"pt\"\r\n",
        "      )\r\n",
        "    \r\n",
        "    labels = target_encoding['input_ids']\r\n",
        "    labels[labels==0] = -100\r\n",
        "\r\n",
        "    return dict(\r\n",
        "        question=data_row['question'],\r\n",
        "        context=data_row['context'],\r\n",
        "        answer_text=data_row['answer_text'],\r\n",
        "        input_ids=source_encoding[\"input_ids\"].flatten(),\r\n",
        "        attention_mask=source_encoding['attention_mask'].flatten(),\r\n",
        "        labels=labels.flatten()\r\n",
        "    )\r\n",
        "\r\n",
        "\r\n"
      ],
      "execution_count": null,
      "outputs": []
    },
    {
      "cell_type": "code",
      "metadata": {
        "id": "pL4oZNukJT8G"
      },
      "source": [
        "sample_dataset = BioQADataset(df, tokenizer)"
      ],
      "execution_count": null,
      "outputs": []
    },
    {
      "cell_type": "code",
      "metadata": {
        "id": "Lq1NGHPILOxv",
        "colab": {
          "base_uri": "https://localhost:8080/"
        },
        "outputId": "351b8600-8ef0-44df-e17d-83afb43f2b2b"
      },
      "source": [
        "for data in sample_dataset:\r\n",
        "  print(data[\"question\"])\r\n",
        "  print(data['answer_text'])\r\n",
        "  print(data['input_ids'][:10])\r\n",
        "  print(data['labels'][:10])\r\n",
        "  break"
      ],
      "execution_count": null,
      "outputs": [
        {
          "output_type": "stream",
          "text": [
            "What is the inheritance pattern of Li–Fraumeni syndrome?\n",
            "autosomal dominant\n",
            "tensor([  363,    19,     8, 28915,  3275,    13,  1414,   104,   371,  6340])\n",
            "tensor([ 1510, 10348,   138, 12613,     1,  -100,  -100,  -100,  -100,  -100])\n"
          ],
          "name": "stdout"
        }
      ]
    },
    {
      "cell_type": "code",
      "metadata": {
        "id": "0feVE5LUNkDn"
      },
      "source": [
        "train_df,val_df = train_test_split(df,test_size=0.05)"
      ],
      "execution_count": null,
      "outputs": []
    },
    {
      "cell_type": "code",
      "metadata": {
        "id": "uSzR_sHRL1mP",
        "colab": {
          "base_uri": "https://localhost:8080/"
        },
        "outputId": "bfccdd69-e5ba-4f4c-ca6c-ca4cef6c0534"
      },
      "source": [
        "train_df.shape, val_df.shape"
      ],
      "execution_count": null,
      "outputs": [
        {
          "output_type": "execute_result",
          "data": {
            "text/plain": [
              "((12338, 5), (650, 5))"
            ]
          },
          "metadata": {
            "tags": []
          },
          "execution_count": 13
        }
      ]
    },
    {
      "cell_type": "code",
      "metadata": {
        "id": "qCtB2boMOCfm"
      },
      "source": [
        "class BioDataModule(pl.LightningDataModule):\r\n",
        "  def __init__(\r\n",
        "      self,\r\n",
        "      train_df: pd.DataFrame,\r\n",
        "      test_df: pd.DataFrame,\r\n",
        "      tokenizer:T5Tokenizer,\r\n",
        "      batch_size: int = 8,\r\n",
        "      source_max_token_len: int = 256,\r\n",
        "      target_max_token_len: int = 32,\r\n",
        "      ):\r\n",
        "    super().__init__()\r\n",
        "    self.train_df = train_df\r\n",
        "    self.test_df = test_df\r\n",
        "    self.tokenizer = tokenizer\r\n",
        "    self.batch_size = batch_size\r\n",
        "    self.source_max_token_len = source_max_token_len\r\n",
        "    self.target_max_token_len = target_max_token_len\r\n",
        "\r\n",
        "  def setup(self):\r\n",
        "    self.train_dataset = BioQADataset(\r\n",
        "        self.train_df,\r\n",
        "        self.tokenizer,\r\n",
        "        self.source_max_token_len,\r\n",
        "        self.target_max_token_len\r\n",
        "        )\r\n",
        "\r\n",
        "    self.test_dataset = BioQADataset(\r\n",
        "    self.test_df,\r\n",
        "    self.tokenizer,\r\n",
        "    self.source_max_token_len,\r\n",
        "    self.target_max_token_len\r\n",
        "    )\r\n",
        " \r\n",
        "  def train_dataloader(self):\r\n",
        "    return DataLoader(\r\n",
        "        self.train_dataset,\r\n",
        "        batch_size=self.batch_size,\r\n",
        "        shuffle=True,\r\n",
        "        num_workers=4\r\n",
        "        )\r\n",
        "  def val_dataloader(self):\r\n",
        "    return DataLoader(\r\n",
        "        self.test_dataset,\r\n",
        "        batch_size=self.batch_size,\r\n",
        "        num_workers=4\r\n",
        "        )\r\n",
        "\r\n",
        "  def test_dataloader(self):\r\n",
        "    return DataLoader(\r\n",
        "        self.test_dataset,\r\n",
        "        batch_size=1,\r\n",
        "        num_workers=4\r\n",
        "        )"
      ],
      "execution_count": null,
      "outputs": []
    },
    {
      "cell_type": "code",
      "metadata": {
        "id": "h1BPk5B0iGRI"
      },
      "source": [
        "BATCH_SIZE = 16\r\n",
        "N_EPOCHS = 6\r\n",
        "\r\n",
        "data_module = BioDataModule(train_df, val_df, tokenizer, batch_size=BATCH_SIZE)\r\n",
        "data_module.setup()"
      ],
      "execution_count": null,
      "outputs": []
    },
    {
      "cell_type": "code",
      "metadata": {
        "id": "gdE8OYQ-iqxF",
        "colab": {
          "base_uri": "https://localhost:8080/",
          "height": 186,
          "referenced_widgets": [
            "600a384616a84b72b4981f3d2a7b8470",
            "793d1cfa137b43eaad4a5653c8430848",
            "9d9a3b8fa6524c2399c08ebbf914283f",
            "026dbb7fefc7465399d6514fb1706130",
            "47d5424ef2f5401a8df0909245c039f8",
            "067661754bd244ad814db1bef89ef09a",
            "f824d9852eb24702b36bc56e57a716ff",
            "5ea19b6afe62461a8209cfcdea94da5b",
            "da3a23242cd64303b922d4215a006ffa",
            "65bab16b997c40159715da4d4325136b",
            "395b2bc89a2c4dcf856452ad22a4f4b7",
            "e081bf883423424d91e64ef3eaa5196f",
            "863131610c0d407ca57132cf1a47eaf1",
            "6351f7bc6cee49adb071d5e1731c5f35",
            "d1ca486b31034200899a5b7fd78e9169",
            "bea52f3bc7e24a06a0f93a4d01adacdc"
          ]
        },
        "outputId": "2110d429-726a-439e-970e-e99974a8c259"
      },
      "source": [
        "model = T5ForConditionalGeneration.from_pretrained(MODEL_NAME, return_dict=True)"
      ],
      "execution_count": null,
      "outputs": [
        {
          "output_type": "display_data",
          "data": {
            "application/vnd.jupyter.widget-view+json": {
              "model_id": "600a384616a84b72b4981f3d2a7b8470",
              "version_minor": 0,
              "version_major": 2
            },
            "text/plain": [
              "HBox(children=(FloatProgress(value=0.0, description='Downloading', max=1199.0, style=ProgressStyle(description…"
            ]
          },
          "metadata": {
            "tags": []
          }
        },
        {
          "output_type": "stream",
          "text": [
            "\n"
          ],
          "name": "stdout"
        },
        {
          "output_type": "display_data",
          "data": {
            "application/vnd.jupyter.widget-view+json": {
              "model_id": "da3a23242cd64303b922d4215a006ffa",
              "version_minor": 0,
              "version_major": 2
            },
            "text/plain": [
              "HBox(children=(FloatProgress(value=0.0, description='Downloading', max=891691430.0, style=ProgressStyle(descri…"
            ]
          },
          "metadata": {
            "tags": []
          }
        },
        {
          "output_type": "stream",
          "text": [
            "\n"
          ],
          "name": "stdout"
        },
        {
          "output_type": "stream",
          "text": [
            "Some weights of the model checkpoint at t5-base were not used when initializing T5ForConditionalGeneration: ['decoder.block.0.layer.1.EncDecAttention.relative_attention_bias.weight']\n",
            "- This IS expected if you are initializing T5ForConditionalGeneration from the checkpoint of a model trained on another task or with another architecture (e.g. initializing a BertForSequenceClassification model from a BertForPreTraining model).\n",
            "- This IS NOT expected if you are initializing T5ForConditionalGeneration from the checkpoint of a model that you expect to be exactly identical (initializing a BertForSequenceClassification model from a BertForSequenceClassification model).\n"
          ],
          "name": "stderr"
        }
      ]
    },
    {
      "cell_type": "code",
      "metadata": {
        "id": "-TVc2kVFv3jG"
      },
      "source": [
        "output = model(\r\n",
        "    input_ids=encoding['input_ids'],\r\n",
        "    attention_mask=encoding['attention_mask'],\r\n",
        "    labels=labels\r\n",
        ")"
      ],
      "execution_count": null,
      "outputs": []
    },
    {
      "cell_type": "code",
      "metadata": {
        "id": "YG3uiSz96Hq4"
      },
      "source": [
        "output.logits.shape"
      ],
      "execution_count": null,
      "outputs": []
    },
    {
      "cell_type": "code",
      "metadata": {
        "id": "LOTf6TGE6Ku-"
      },
      "source": [
        "output.loss"
      ],
      "execution_count": null,
      "outputs": []
    },
    {
      "cell_type": "code",
      "metadata": {
        "id": "T2jAuIbZ6MVA"
      },
      "source": [
        "class BioQAModel(pl.LightningModule):\r\n",
        "  def __init__(self):\r\n",
        "    super().__init__()\r\n",
        "    self.model = T5ForConditionalGeneration.from_pretrained(MODEL_NAME, return_dict=True)\r\n",
        "\r\n",
        "\r\n",
        "  def forward(self, input_ids, attention_mask, labels=None):\r\n",
        "    output = self.model(\r\n",
        "        input_ids, \r\n",
        "        attention_mask=attention_mask,\r\n",
        "        labels=labels)\r\n",
        "\r\n",
        "    return output.loss, output.logits\r\n",
        "\r\n",
        "  def training_step(self, batch, batch_idx):\r\n",
        "    input_ids = batch['input_ids']\r\n",
        "    attention_mask=batch['attention_mask']\r\n",
        "    labels = batch['labels']\r\n",
        "    loss, outputs = self(input_ids, attention_mask, labels)\r\n",
        "    self.log(\"train_loss\", loss, prog_bar=True, logger=True)\r\n",
        "    return {\"loss\": loss, \"predictions\":outputs, \"labels\": labels}\r\n",
        "\r\n",
        "  def validation_step(self, batch, batch_idx):\r\n",
        "    input_ids = batch['input_ids']\r\n",
        "    attention_mask=batch['attention_mask']\r\n",
        "    labels = batch['labels']\r\n",
        "    loss, outputs = self(input_ids, attention_mask, labels)\r\n",
        "    self.log(\"val_loss\", loss, prog_bar=True, logger=True)\r\n",
        "    return loss\r\n",
        "\r\n",
        "  def test_step(self, batch, batch_idx):\r\n",
        "    input_ids = batch['input_ids']\r\n",
        "    attention_mask=batch['attention_mask']\r\n",
        "    labels = batch['labels']\r\n",
        "    loss, outputs = self(input_ids, attention_mask, labels)\r\n",
        "    self.log(\"test_loss\", loss, prog_bar=True, logger=True)\r\n",
        "    return loss\r\n",
        "\r\n",
        "  def configure_optimizers(self):\r\n",
        "\r\n",
        "    optimizer = AdamW(self.parameters(), lr=0.0001)\r\n",
        "    return optimizer\r\n"
      ],
      "execution_count": null,
      "outputs": []
    },
    {
      "cell_type": "code",
      "metadata": {
        "id": "c7GoV9hk9Ecp",
        "colab": {
          "base_uri": "https://localhost:8080/"
        },
        "outputId": "84874050-e638-4c11-992f-e8d899a40e68"
      },
      "source": [
        "model = BioQAModel()"
      ],
      "execution_count": null,
      "outputs": [
        {
          "output_type": "stream",
          "text": [
            "Some weights of the model checkpoint at t5-base were not used when initializing T5ForConditionalGeneration: ['decoder.block.0.layer.1.EncDecAttention.relative_attention_bias.weight']\n",
            "- This IS expected if you are initializing T5ForConditionalGeneration from the checkpoint of a model trained on another task or with another architecture (e.g. initializing a BertForSequenceClassification model from a BertForPreTraining model).\n",
            "- This IS NOT expected if you are initializing T5ForConditionalGeneration from the checkpoint of a model that you expect to be exactly identical (initializing a BertForSequenceClassification model from a BertForSequenceClassification model).\n"
          ],
          "name": "stderr"
        }
      ]
    },
    {
      "cell_type": "code",
      "metadata": {
        "id": "meiRWKEU9JE8"
      },
      "source": [
        "checkpoint_callback = ModelCheckpoint(\r\n",
        "    dirpath=\"checkpoints\",\r\n",
        "    filename=\"best-checkpoint\",\r\n",
        "    save_top_k=1,\r\n",
        "    verbose=True,\r\n",
        "    monitor=\"val_loss\",\r\n",
        "    mode=\"min\"\r\n",
        ")"
      ],
      "execution_count": null,
      "outputs": []
    },
    {
      "cell_type": "code",
      "metadata": {
        "id": "mfrOI8Pi-Byt"
      },
      "source": [
        "logger = pl.loggers.TensorBoardLogger('training.logs',name='bio-qa')\r\n",
        "trainer = pl.Trainer(\r\n",
        "    logger = logger,\r\n",
        "    checkpoint_callback=checkpoint_callback,\r\n",
        "    max_epochs=N_EPOCHS,\r\n",
        "    gpus=1,\r\n",
        "    progress_bar_refresh_rate = 30\r\n",
        ")"
      ],
      "execution_count": null,
      "outputs": []
    },
    {
      "cell_type": "code",
      "metadata": {
        "id": "QwxVJxHDQ0dX"
      },
      "source": [
        "%load_ext tensorboard"
      ],
      "execution_count": null,
      "outputs": []
    },
    {
      "cell_type": "code",
      "metadata": {
        "id": "_mQ9k4uwRA-X"
      },
      "source": [
        "%tensorboard --logdir ./lightning_logs"
      ],
      "execution_count": null,
      "outputs": []
    },
    {
      "cell_type": "code",
      "metadata": {
        "id": "HA-YKU-jSUsH"
      },
      "source": [
        "!rm -rf lightning_logs\r\n",
        "!rm -rf checkpoints"
      ],
      "execution_count": null,
      "outputs": []
    },
    {
      "cell_type": "code",
      "metadata": {
        "colab": {
          "background_save": true,
          "referenced_widgets": [
            "276280be42f14fa8942993fef9809318",
            "dd34d370301a4c3e833a6847b456db38",
            "433db23a17f140829405fe0403cb123f",
            "67ca46676e6b4417be81079e52eda844",
            "773465af5e4a4bc6b0ed3364c7b9fcb2",
            "86ab271710784d6096a457affb23f157",
            "bf331d2ef539455ea739acc4ec007f2d",
            "7720759972f0439581cfe56fb057bd1b"
          ]
        },
        "id": "kIEHuV1wRL7D",
        "outputId": "0978b3bb-3b06-4c9e-df74-9cb2384dd86b"
      },
      "source": [
        "trainer.fit(model,data_module)"
      ],
      "execution_count": null,
      "outputs": [
        {
          "output_type": "stream",
          "text": [
            "\n",
            "  | Name  | Type                       | Params\n",
            "-----------------------------------------------------\n",
            "0 | model | T5ForConditionalGeneration | 222 M \n",
            "-----------------------------------------------------\n",
            "222 M     Trainable params\n",
            "0         Non-trainable params\n",
            "222 M     Total params\n",
            "891.614   Total estimated model params size (MB)\n"
          ],
          "name": "stderr"
        },
        {
          "output_type": "display_data",
          "data": {
            "application/vnd.jupyter.widget-view+json": {
              "model_id": "276280be42f14fa8942993fef9809318",
              "version_major": 2,
              "version_minor": 0
            },
            "text/plain": [
              "HBox(children=(FloatProgress(value=1.0, bar_style='info', description='Validation sanity check', layout=Layout…"
            ]
          },
          "metadata": {
            "tags": []
          }
        },
        {
          "output_type": "stream",
          "text": [
            "\r"
          ],
          "name": "stdout"
        },
        {
          "output_type": "display_data",
          "data": {
            "application/vnd.jupyter.widget-view+json": {
              "model_id": "dd34d370301a4c3e833a6847b456db38",
              "version_major": 2,
              "version_minor": 0
            },
            "text/plain": [
              "HBox(children=(FloatProgress(value=1.0, bar_style='info', description='Training', layout=Layout(flex='2'), max…"
            ]
          },
          "metadata": {
            "tags": []
          }
        },
        {
          "output_type": "display_data",
          "data": {
            "application/vnd.jupyter.widget-view+json": {
              "model_id": "433db23a17f140829405fe0403cb123f",
              "version_major": 2,
              "version_minor": 0
            },
            "text/plain": [
              "HBox(children=(FloatProgress(value=1.0, bar_style='info', description='Validating', layout=Layout(flex='2'), m…"
            ]
          },
          "metadata": {
            "tags": []
          }
        },
        {
          "output_type": "stream",
          "text": [
            "Epoch 0, global step 306: val_loss reached 0.30702 (best 0.30702), saving model to \"/content/drive/My Drive/checkpoints/best-checkpoint.ckpt\" as top 1\n"
          ],
          "name": "stderr"
        },
        {
          "output_type": "display_data",
          "data": {
            "application/vnd.jupyter.widget-view+json": {
              "model_id": "67ca46676e6b4417be81079e52eda844",
              "version_major": 2,
              "version_minor": 0
            },
            "text/plain": [
              "HBox(children=(FloatProgress(value=1.0, bar_style='info', description='Validating', layout=Layout(flex='2'), m…"
            ]
          },
          "metadata": {
            "tags": []
          }
        },
        {
          "output_type": "stream",
          "text": [
            "Epoch 1, global step 613: val_loss reached 0.24178 (best 0.24178), saving model to \"/content/drive/My Drive/checkpoints/best-checkpoint.ckpt\" as top 1\n"
          ],
          "name": "stderr"
        },
        {
          "output_type": "display_data",
          "data": {
            "application/vnd.jupyter.widget-view+json": {
              "model_id": "773465af5e4a4bc6b0ed3364c7b9fcb2",
              "version_major": 2,
              "version_minor": 0
            },
            "text/plain": [
              "HBox(children=(FloatProgress(value=1.0, bar_style='info', description='Validating', layout=Layout(flex='2'), m…"
            ]
          },
          "metadata": {
            "tags": []
          }
        },
        {
          "output_type": "stream",
          "text": [
            "Epoch 2, global step 920: val_loss reached 0.21556 (best 0.21556), saving model to \"/content/drive/My Drive/checkpoints/best-checkpoint.ckpt\" as top 1\n"
          ],
          "name": "stderr"
        },
        {
          "output_type": "display_data",
          "data": {
            "application/vnd.jupyter.widget-view+json": {
              "model_id": "86ab271710784d6096a457affb23f157",
              "version_major": 2,
              "version_minor": 0
            },
            "text/plain": [
              "HBox(children=(FloatProgress(value=1.0, bar_style='info', description='Validating', layout=Layout(flex='2'), m…"
            ]
          },
          "metadata": {
            "tags": []
          }
        },
        {
          "output_type": "stream",
          "text": [
            "Epoch 3, global step 1227: val_loss reached 0.20418 (best 0.20418), saving model to \"/content/drive/My Drive/checkpoints/best-checkpoint.ckpt\" as top 1\n"
          ],
          "name": "stderr"
        },
        {
          "output_type": "display_data",
          "data": {
            "application/vnd.jupyter.widget-view+json": {
              "model_id": "bf331d2ef539455ea739acc4ec007f2d",
              "version_major": 2,
              "version_minor": 0
            },
            "text/plain": [
              "HBox(children=(FloatProgress(value=1.0, bar_style='info', description='Validating', layout=Layout(flex='2'), m…"
            ]
          },
          "metadata": {
            "tags": []
          }
        },
        {
          "output_type": "stream",
          "text": [
            "Epoch 4, step 1534: val_loss was not in top 1\n"
          ],
          "name": "stderr"
        },
        {
          "output_type": "display_data",
          "data": {
            "application/vnd.jupyter.widget-view+json": {
              "model_id": "7720759972f0439581cfe56fb057bd1b",
              "version_major": 2,
              "version_minor": 0
            },
            "text/plain": [
              "HBox(children=(FloatProgress(value=1.0, bar_style='info', description='Validating', layout=Layout(flex='2'), m…"
            ]
          },
          "metadata": {
            "tags": []
          }
        },
        {
          "output_type": "stream",
          "text": [
            "Epoch 5, global step 1841: val_loss reached 0.20347 (best 0.20347), saving model to \"/content/drive/My Drive/checkpoints/best-checkpoint.ckpt\" as top 1\n"
          ],
          "name": "stderr"
        },
        {
          "output_type": "stream",
          "text": [
            "\n"
          ],
          "name": "stdout"
        },
        {
          "output_type": "execute_result",
          "data": {
            "text/plain": [
              "1"
            ]
          },
          "metadata": {
            "tags": []
          },
          "execution_count": 0
        }
      ]
    },
    {
      "cell_type": "markdown",
      "metadata": {
        "id": "81Z0mG3mUidM"
      },
      "source": [
        ""
      ]
    },
    {
      "cell_type": "code",
      "metadata": {
        "colab": {
          "background_save": true,
          "referenced_widgets": [
            "c13ed0ff3ca148729119ed4ceff803ca"
          ]
        },
        "id": "cAnM0cIrUi9b",
        "outputId": "665c0906-2884-42d9-d063-3771514f186c"
      },
      "source": [
        "trainer.test()"
      ],
      "execution_count": null,
      "outputs": [
        {
          "output_type": "display_data",
          "data": {
            "application/vnd.jupyter.widget-view+json": {
              "model_id": "c13ed0ff3ca148729119ed4ceff803ca",
              "version_major": 2,
              "version_minor": 0
            },
            "text/plain": [
              "HBox(children=(FloatProgress(value=1.0, bar_style='info', description='Testing', layout=Layout(flex='2'), max=…"
            ]
          },
          "metadata": {
            "tags": []
          }
        },
        {
          "output_type": "stream",
          "text": [
            "\n",
            "--------------------------------------------------------------------------------\n",
            "DATALOADER:0 TEST RESULTS\n",
            "{'test_loss': 0.22696293890476227}\n",
            "--------------------------------------------------------------------------------\n"
          ],
          "name": "stdout"
        },
        {
          "output_type": "execute_result",
          "data": {
            "text/plain": [
              "[{'test_loss': 0.22696293890476227}]"
            ]
          },
          "metadata": {
            "tags": []
          },
          "execution_count": 0
        }
      ]
    },
    {
      "cell_type": "code",
      "metadata": {
        "id": "NMJak5SwRh2R"
      },
      "source": [
        "trained_model = BioQAModel.load_from_checkpoint(\"checkpoints/best-checkpoint_bio.ckpt\")\r\n",
        "trained_model.freeze()"
      ],
      "execution_count": null,
      "outputs": []
    },
    {
      "cell_type": "code",
      "metadata": {
        "id": "GEDsjjgYMD6r"
      },
      "source": [
        "def generate_answer(question):\r\n",
        "  source_encoding = tokenizer(\r\n",
        "      question['question'],\r\n",
        "      question['context'],\r\n",
        "      max_length = 396,\r\n",
        "      padding='max_length',\r\n",
        "      truncation='only_second',\r\n",
        "      return_attention_mask=True,\r\n",
        "      add_special_tokens=True,\r\n",
        "      return_tensors='pt'\r\n",
        "  )\r\n",
        "\r\n",
        "  generated_ids = trained_model.model.generate(\r\n",
        "      input_ids = source_encoding['input_ids'],\r\n",
        "      attention_mask=source_encoding['attention_mask'],\r\n",
        "      num_beams=1,\r\n",
        "      max_length=80,\r\n",
        "      repetition_penalty=2.5,\r\n",
        "      length_penalty=1.0,\r\n",
        "      early_stopping=True,\r\n",
        "      use_cache=True\r\n",
        "\r\n",
        "  )\r\n",
        "\r\n",
        "  preds = [\r\n",
        "          tokenizer.decode(generated_id, skip_special_tokens=True,clean_up_tokenization_spaces=True)\r\n",
        "          for generated_id in generated_ids\r\n",
        "  ]\r\n",
        "\r\n",
        "  return ''.join(preds)"
      ],
      "execution_count": null,
      "outputs": []
    },
    {
      "cell_type": "code",
      "metadata": {
        "id": "BjsiNac7MGwR",
        "colab": {
          "base_uri": "https://localhost:8080/"
        },
        "outputId": "49eb4147-c513-4686-a60d-8934f1de2198"
      },
      "source": [
        "sample_question = val_df.iloc[3]\r\n",
        "sample_question"
      ],
      "execution_count": null,
      "outputs": [
        {
          "output_type": "execute_result",
          "data": {
            "text/plain": [
              "question          The small molecule SEA0400 is an inhibitor of which ion antiporter/exchanger?\n",
              "context         SEA0400, a specific inhibitor of the Na+-Ca2+ exchanger, attenuates sodium n...\n",
              "answer_text                                                                                 NCX\n",
              "answer_start                                                                                212\n",
              "answer_end                                                                                  215\n",
              "question_emb    [0.3978716373443604, -0.04826507568359375, -0.5220368862152099, 0.6058694839...\n",
              "Name: 318, dtype: object"
            ]
          },
          "metadata": {
            "tags": []
          },
          "execution_count": 83
        }
      ]
    },
    {
      "cell_type": "code",
      "metadata": {
        "id": "7dvg5l-HMO-C",
        "colab": {
          "base_uri": "https://localhost:8080/",
          "height": 35
        },
        "outputId": "84780519-fc5d-4f5d-e235-313ba55ff1a9"
      },
      "source": [
        "sample_question['question']"
      ],
      "execution_count": null,
      "outputs": [
        {
          "output_type": "execute_result",
          "data": {
            "application/vnd.google.colaboratory.intrinsic+json": {
              "type": "string"
            },
            "text/plain": [
              "'The small molecule SEA0400 is an inhibitor of which ion antiporter/exchanger?'"
            ]
          },
          "metadata": {
            "tags": []
          },
          "execution_count": 84
        }
      ]
    },
    {
      "cell_type": "code",
      "metadata": {
        "id": "b23VcaqaMR2K",
        "colab": {
          "base_uri": "https://localhost:8080/",
          "height": 35
        },
        "outputId": "de778b8a-b025-4bcb-9ef0-cd0a3bd5faaa"
      },
      "source": [
        "sample_question['answer_text']"
      ],
      "execution_count": null,
      "outputs": [
        {
          "output_type": "execute_result",
          "data": {
            "application/vnd.google.colaboratory.intrinsic+json": {
              "type": "string"
            },
            "text/plain": [
              "'NCX'"
            ]
          },
          "metadata": {
            "tags": []
          },
          "execution_count": 87
        }
      ]
    },
    {
      "cell_type": "code",
      "metadata": {
        "colab": {
          "base_uri": "https://localhost:8080/",
          "height": 205
        },
        "id": "xmy7vquk9CAY",
        "outputId": "033f9a61-b88e-47ae-c36a-b27372909cd9"
      },
      "source": [
        "sample_question['context']"
      ],
      "execution_count": null,
      "outputs": [
        {
          "output_type": "execute_result",
          "data": {
            "application/vnd.google.colaboratory.intrinsic+json": {
              "type": "string"
            },
            "text/plain": [
              "'SEA0400, a specific inhibitor of the Na+-Ca2+ exchanger, attenuates sodium nitroprusside-induced apoptosis in cultured rat microglia. 1. Using SEA0400, a potent and selective inhibitor of the Na+-Ca2+ exchanger (NCX), we examined whether NCX is involved in nitric oxide (NO)-induced disturbance of endoplasmic reticulum (ER) Ca2+ homeostasis followed by apoptosis in cultured rat microglia. 2. Sodium nitroprusside (SNP), an NO donor, decreased cell viability in a dose- and time-dependent manner with apoptotic cell death in cultured microglia. 3. Treatment with SNP decreased the ER Ca2+ levels as evaluated by measuring the increase in cytosolic Ca2+ level induced by exposing cells to thapsigargin, an irreversible inhibitor of ER Ca2+-ATPase. 4. The treatment with SNP also increased mRNA expression of CHOP and GPR78, makers of ER stress. 5. SEA0400 at 0.3-1.0 microM protected microglia against SNP-induced apoptosis. 6. SEA0400 blocked not only the SNP-induced decrease in ER Ca2+ levels but also SNP-induced increase in CHOP and GRP78 mRNAs. 7. SEA0400 did not affect capacitative Ca2+ entry in the presence and absence of SNP. 8. SNP increased Na+-dependent 45Ca2+ uptake and this increase was blocked by SEA0400. 9. These results suggest that SNP induces apoptosis via the ER stress pathway and SEA0400 attenuates SNP-induced apoptosis via suppression of the ER stress in cultured microglia. Our findings imply that NCX plays a role in ER Ca2+ depletion under pathological conditions.'"
            ]
          },
          "metadata": {
            "tags": []
          },
          "execution_count": 88
        }
      ]
    },
    {
      "cell_type": "code",
      "metadata": {
        "id": "jdaxyTbzMWCz",
        "colab": {
          "base_uri": "https://localhost:8080/",
          "height": 35
        },
        "outputId": "3b4c6157-f752-44f6-bdf4-90d47b7e52d1"
      },
      "source": [
        "generate_answer(sample_question)"
      ],
      "execution_count": null,
      "outputs": [
        {
          "output_type": "execute_result",
          "data": {
            "application/vnd.google.colaboratory.intrinsic+json": {
              "type": "string"
            },
            "text/plain": [
              "'NCX'"
            ]
          },
          "metadata": {
            "tags": []
          },
          "execution_count": 86
        }
      ]
    },
    {
      "cell_type": "code",
      "metadata": {
        "colab": {
          "base_uri": "https://localhost:8080/"
        },
        "id": "yYnjJvktG8ZX",
        "outputId": "2c755a0b-5071-4f95-fd76-f88771be45d7"
      },
      "source": [
        "xx=val_df.index[val_df[\"question\"] == 'Which protein is the main marker of Cajal bodies?']\r\n",
        "xx[0]"
      ],
      "execution_count": null,
      "outputs": [
        {
          "output_type": "execute_result",
          "data": {
            "text/plain": [
              "2495"
            ]
          },
          "metadata": {
            "tags": []
          },
          "execution_count": 70
        }
      ]
    },
    {
      "cell_type": "code",
      "metadata": {
        "colab": {
          "base_uri": "https://localhost:8080/",
          "height": 205
        },
        "id": "Lz4vnsM3HKn5",
        "outputId": "f1a9021b-2b58-4aff-a8e1-e033c2bb2eb9"
      },
      "source": [
        "val_df.loc[xx[0]]['context']"
      ],
      "execution_count": null,
      "outputs": [
        {
          "output_type": "execute_result",
          "data": {
            "application/vnd.google.colaboratory.intrinsic+json": {
              "type": "string"
            },
            "text/plain": [
              "'Substrate profiling of human vaccinia-related kinases identifies coilin, a Cajal body nuclear protein, as a phosphorylation target with neurological implications. Protein phosphorylation by kinases plays a central role in the regulation and coordination of multiple biological processes. In general, knowledge on kinase specificity is restricted to substrates identified in the context of specific cellular responses, but kinases are likely to have multiple additional substrates and be integrated in signaling networks that might be spatially and temporally different, and in which protein complexes and subcellular localization can play an important role. In this report the substrate specificity of atypical human vaccinia-related kinases (VRK1 and VRK2) using a human peptide-array containing 1080 sequences phosphorylated in known signaling pathways has been studied. The two kinases identify a subset of potential peptide targets, all of them result in a consensus sequence composed of at least four basic residues in peptide targets. Linear peptide arrays are therefore a useful approach in the characterization of kinases and substrate identification, which can contribute to delineate the signaling network in which VRK proteins participate. One of these target proteins is coilin; a basic protein located in nuclear Cajal bodies. Coilin is phosphorylated in Ser184 by both VRK1 and VRK2. Coilin colocalizes and interacts with VRK1 in Cajal bodies, but not with the mutant VRK1 (R358X). VRK1 (R358X) is less active than VRK1. Altered regulation of coilin might be implicated in several neurological diseases such as ataxias and spinal muscular atrophies.'"
            ]
          },
          "metadata": {
            "tags": []
          },
          "execution_count": 71
        }
      ]
    },
    {
      "cell_type": "code",
      "metadata": {
        "id": "Rg8SgAxjeXAe"
      },
      "source": [
        ""
      ],
      "execution_count": null,
      "outputs": []
    }
  ]
}